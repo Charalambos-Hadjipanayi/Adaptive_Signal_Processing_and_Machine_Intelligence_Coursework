{
 "cells": [
  {
   "cell_type": "code",
   "execution_count": 1,
   "metadata": {},
   "outputs": [],
   "source": [
    "%load_ext autoreload\n",
    "%autoreload 2\n",
    "%matplotlib inline"
   ]
  },
  {
   "cell_type": "code",
   "execution_count": 2,
   "metadata": {},
   "outputs": [],
   "source": [
    "import numpy as np\n",
    "import matplotlib.pyplot as plt\n",
    "from hottbox.core import Tensor, TensorCPD, TensorTKD"
   ]
  },
  {
   "cell_type": "markdown",
   "metadata": {
    "toc-hr-collapsed": false
   },
   "source": [
    "[Return to Table of Contents](./0_Table_of_contents.ipynb)"
   ]
  },
  {
   "cell_type": "markdown",
   "metadata": {},
   "source": [
    "# Efficient representation of multidimensional arrays\n",
    "\n",
    "A tensor of order $N$ is said to be of **rank-1** if it can be represented as an outer product of $N$ vectors. \n",
    "\n",
    "The figure below illustrates an example of a rank-1 tensor $\\mathbf{\\underline{X}}$ and provides intuition on how to compute the operation of outer product:\n",
    "\n",
    "<img src=\"./imgs/outerproduct.png\" alt=\"Drawing\" style=\"width: 500px;\"/>\n"
   ]
  },
  {
   "cell_type": "markdown",
   "metadata": {
    "toc-hr-collapsed": false
   },
   "source": [
    "# Kruskal representation\n",
    "\n",
    "For a third order tensor or rank $R$ the Kruskal representation can be expressed as follows:\n",
    "\n",
    "$$\n",
    "\\mathbf{\\underline{X}} = \\sum_{r=1}^R \\mathbf{\\underline{X}}_r = \\sum_{r=1}^R \\lambda_{r} \\cdot \\mathbf{a}_r \\circ \\mathbf{b}_r \\circ \\mathbf{c}_r\n",
    "$$\n",
    "\n",
    "The vectors $\\mathbf{a}_r, \\mathbf{b}_r$ and $\\mathbf{c}_r$ are oftentime combined into the corresponding **factor matrices**:\n",
    "\n",
    "$$\n",
    "\\mathbf{A} = \\Big[ \\mathbf{a}_1 \\cdots \\mathbf{a}_R \\Big] \\quad\n",
    "\\mathbf{B} = \\Big[ \\mathbf{b}_1 \\cdots \\mathbf{b}_R \\Big] \\quad\n",
    "\\mathbf{C} = \\Big[ \\mathbf{c}_1 \\cdots \\mathbf{c}_R \\Big] \\quad\n",
    "$$\n",
    "\n",
    "Thus, if we employ the mode-$n$ product, the **Kruskal representation** takes the form:\n",
    "\n",
    "$$\n",
    "\\mathbf{\\underline{X}} = \\mathbf{\\underline{\\Lambda}} \\times_1 \\mathbf{A} \\times_2 \\mathbf{B} \\times_3 \\mathbf{C} = \\Big[\\mathbf{\\underline{\\Lambda}}; \\mathbf{A}, \\mathbf{B}, \\mathbf{C} \\Big]\n",
    "$$\n",
    "\n",
    "where the elements on the super-diagonal of the core tensor $\\mathbf{\\underline{\\Lambda}}$ are occupied by the values $\\lambda_r$ and all other entries are equal to zero. This can be visualised as shown on figure below:\n",
    "\n",
    "<img src=\"./imgs/TensorCPD.png\" alt=\"Drawing\" style=\"width: 500px;\"/>\n"
   ]
  },
  {
   "cell_type": "code",
   "execution_count": 3,
   "metadata": {},
   "outputs": [
    {
     "name": "stdout",
     "output_type": "stream",
     "text": [
      "Kruskal representation of a tensor with rank=(2,).\n",
      "Factor matrices represent properties: ['mode-0', 'mode-1', 'mode-2']\n",
      "With corresponding latent components described by (3, 4, 5) features respectively.\n"
     ]
    }
   ],
   "source": [
    "# Create factor matrices\n",
    "I, J, K = 3, 4, 5\n",
    "R = 2\n",
    "\n",
    "A = np.arange(I * R).reshape(I, R)\n",
    "B = np.arange(J * R).reshape(J, R)\n",
    "C = np.arange(K * R).reshape(K, R)\n",
    "\n",
    "# Create core values\n",
    "values = np.arange(R)\n",
    "\n",
    "# Create Kruskal representation\n",
    "tensor_cpd = TensorCPD(fmat=[A, B, C], core_values=values)\n",
    "\n",
    "# Result preview\n",
    "print(tensor_cpd)"
   ]
  },
  {
   "cell_type": "markdown",
   "metadata": {},
   "source": [
    "## **Assigment 1**\n",
    "\n",
    "1. What is the order of a tensor if its Kruskal representation consists of 5 factor matrices.\n",
    "\n",
    "2. What is the order of a tensor if its Kruskal representation consists of core tensor which has only 5 elements on the super-diagonal.\n",
    "\n",
    "3. For a 3-rd order tensor that consists of 500 elements, provide three different Kruskal representations.\n",
    "\n",
    "4. For a tensor that consits of 1000 elements, provide three Kruskal representations, each of which should have different number of factor matrices.\n",
    "\n",
    "5. For a 4-th order tensor that consists of 2401 elements, provide Kruskal representation if its core tensor consisting of 81 elements.\n"
   ]
  },
  {
   "cell_type": "markdown",
   "metadata": {},
   "source": [
    "### Solution: Part 1"
   ]
  },
  {
   "cell_type": "code",
   "execution_count": 4,
   "metadata": {},
   "outputs": [
    {
     "name": "stdout",
     "output_type": "stream",
     "text": [
      "Answer:  5\n",
      "--------------------------------\n",
      "Kruskal representation of a tensor with rank=(2,).\n",
      "Factor matrices represent properties: ['mode-0', 'mode-1', 'mode-2', 'mode-3', 'mode-4']\n",
      "With corresponding latent components described by (3, 4, 5, 6, 7) features respectively.\n"
     ]
    }
   ],
   "source": [
    "answer_1_1 = \"5\"  # use this variable for your answer\n",
    "print(\"Answer: \",answer_1_1)\n",
    "print(\"--------------------------------\")\n",
    "\n",
    "#Illustration\n",
    "I, J, K, L, M = 3, 4, 5, 6, 7\n",
    "R = 2\n",
    "\n",
    "# Factor matrices\n",
    "A = np.arange(I * R).reshape(I, R)\n",
    "B = np.arange(J * R).reshape(J, R)\n",
    "C = np.arange(K * R).reshape(K, R)\n",
    "D = np.arange(L * R).reshape(L, R)\n",
    "E = np.arange(M * R).reshape(M, R)\n",
    "\n",
    "# Create core values\n",
    "values = np.arange(R)\n",
    "\n",
    "# Create Kruskal representation\n",
    "tensor_cpd = TensorCPD(fmat=[A, B, C, D, E], core_values=values)\n",
    "#print(tensor_full)\n",
    "# Result preview\n",
    "print(tensor_cpd)"
   ]
  },
  {
   "cell_type": "markdown",
   "metadata": {},
   "source": [
    "### Solution: Part 2"
   ]
  },
  {
   "cell_type": "code",
   "execution_count": 5,
   "metadata": {},
   "outputs": [
    {
     "name": "stdout",
     "output_type": "stream",
     "text": [
      "Answer:\n",
      "The order of a tensor depends only on the number of factor matrices in its Kruskal representation and is independent of the number of elements of the core tensor in its super-diagonal. However, the rank of the tensor is equal to the number of elements of the core tensor in its super-diagonal.\n",
      "--------------------------------------------------------------------------------------------------------------------\n",
      "Illustration 1 (R=2):\n",
      "Kruskal representation of a tensor with rank=(2,).\n",
      "Factor matrices represent properties: ['mode-0', 'mode-1', 'mode-2', 'mode-3', 'mode-4']\n",
      "With corresponding latent components described by (3, 4, 5, 6, 7) features respectively.\n",
      "\n",
      "\n",
      "Illustration 2 (R=4):\n",
      "Kruskal representation of a tensor with rank=(4,).\n",
      "Factor matrices represent properties: ['mode-0', 'mode-1', 'mode-2', 'mode-3', 'mode-4']\n",
      "With corresponding latent components described by (3, 4, 5, 6, 7) features respectively.\n"
     ]
    }
   ],
   "source": [
    "answer_1_2 = \"The order of a tensor depends only on the number of factor matrices in its Kruskal representation and is independent of the number of elements of the core tensor in its super-diagonal. However, the rank of the tensor is equal to the number of elements of the core tensor in its super-diagonal.\"  # use this variable for your answer\n",
    "print(\"Answer:\")\n",
    "print(answer_1_2)\n",
    "print(\"--------------------------------------------------------------------------------------------------------------------\")\n",
    "\n",
    "#Illustration\n",
    "I, J, K, L, M = 3, 4, 5, 6, 7\n",
    "R_1, R_2 = 2 , 4\n",
    "\n",
    "# Factor matrices\n",
    "A_1 = np.arange(I * R_1).reshape(I, R_1)\n",
    "A_2 = np.arange(I * R_2).reshape(I, R_2)\n",
    "B_1 = np.arange(J * R_1).reshape(J, R_1)\n",
    "B_2 = np.arange(J * R_2).reshape(J, R_2)\n",
    "C_1 = np.arange(K * R_1).reshape(K, R_1)\n",
    "C_2 = np.arange(K * R_2).reshape(K, R_2)\n",
    "D_1 = np.arange(L * R_1).reshape(L, R_1)\n",
    "D_2 = np.arange(L * R_2).reshape(L, R_2)\n",
    "E_1 = np.arange(M * R_1).reshape(M, R_1)\n",
    "E_2 = np.arange(M * R_2).reshape(M, R_2)\n",
    "\n",
    "# Create core values\n",
    "values_1 = np.arange(R_1)\n",
    "values_2 = np.arange(R_2)\n",
    "\n",
    "# Create Kruskal representation\n",
    "tensor_cpd_1 = TensorCPD(fmat=[A_1, B_1, C_1, D_1, E_1], core_values=values_1)\n",
    "tensor_cpd_2 = TensorCPD(fmat=[A_2, B_2, C_2, D_2, E_2], core_values=values_2)\n",
    "#print(tensor_full)\n",
    "# Result preview\n",
    "print(\"Illustration 1 (R=2):\")\n",
    "print(tensor_cpd_1)\n",
    "print(\"\\n\")\n",
    "print(\"Illustration 2 (R=4):\")\n",
    "print(tensor_cpd_2)"
   ]
  },
  {
   "cell_type": "markdown",
   "metadata": {},
   "source": [
    "### Solution: Part 3"
   ]
  },
  {
   "cell_type": "code",
   "execution_count": 6,
   "metadata": {},
   "outputs": [
    {
     "name": "stdout",
     "output_type": "stream",
     "text": [
      "First representation: \n",
      "\n",
      "Kruskal representation of a tensor with rank=(2,).\n",
      "Factor matrices represent properties: ['mode-0', 'mode-1', 'mode-2']\n",
      "With corresponding latent components described by (5, 10, 10) features respectively. \n",
      "\n",
      "This tensor is of order 3 and consists of 500 elements.\n",
      "Sizes and names of its modes are (5, 10, 10) and ['mode-0', 'mode-1', 'mode-2'] respectively.\n"
     ]
    }
   ],
   "source": [
    "# First representation\n",
    "\n",
    "# Create tensor dimensions\n",
    "I, J, K = 5, 10, 10\n",
    "R_1 = 2\n",
    "\n",
    "# Factor matrices\n",
    "A_1 = np.arange(I * R_1).reshape(I, R_1)\n",
    "B_1 = np.arange(J * R_1).reshape(J, R_1)\n",
    "C_1 = np.arange(K * R_1).reshape(K, R_1)\n",
    "\n",
    "# Create core values\n",
    "values_1 = np.arange(R_1)\n",
    "\n",
    "# Create Kruskal representation\n",
    "tensor_cpd_1 = TensorCPD(fmat=[A_1, B_1, C_1], core_values=values_1)\n",
    "\n",
    "# Result preview \n",
    "print(\"First representation:\",\"\\n\")\n",
    "print(tensor_cpd_1,\"\\n\")\n",
    "\n",
    "# From HOTTBOX documentation - functionoutput.reconstruct converts the CP representation of a tensor \n",
    "#                              into a full tensor (function has no input arguments)\n",
    "print(tensor_cpd_1.reconstruct())"
   ]
  },
  {
   "cell_type": "code",
   "execution_count": 7,
   "metadata": {},
   "outputs": [
    {
     "name": "stdout",
     "output_type": "stream",
     "text": [
      "First representation: \n",
      "\n",
      "Kruskal representation of a tensor with rank=(5,).\n",
      "Factor matrices represent properties: ['mode-0', 'mode-1', 'mode-2']\n",
      "With corresponding latent components described by (5, 10, 10) features respectively. \n",
      "\n",
      "This tensor is of order 3 and consists of 500 elements.\n",
      "Sizes and names of its modes are (5, 10, 10) and ['mode-0', 'mode-1', 'mode-2'] respectively.\n"
     ]
    }
   ],
   "source": [
    "# Second representation\n",
    "\n",
    "# Create tensor dimensions\n",
    "I, J, K = 5, 10, 10\n",
    "R_2 = 5\n",
    "\n",
    "# Factor matrices\n",
    "A_2 = np.arange(I * R_2).reshape(I, R_2)\n",
    "B_2 = np.arange(J * R_2).reshape(J, R_2)\n",
    "C_2 = np.arange(K * R_2).reshape(K, R_2)\n",
    "\n",
    "# Create core values\n",
    "values_2 = np.arange(R_2)\n",
    "\n",
    "# Create Kruskal representation\n",
    "tensor_cpd_2 = TensorCPD(fmat=[A_2, B_2, C_2], core_values=values_2)\n",
    "\n",
    "# Result preview \n",
    "print(\"First representation:\",\"\\n\")\n",
    "print(tensor_cpd_2,\"\\n\")\n",
    "\n",
    "# From HOTTBOX documentation - functionoutput.reconstruct converts the CP representation of a tensor \n",
    "#                              into a full tensor (function has no input arguments)\n",
    "print(tensor_cpd_2.reconstruct())"
   ]
  },
  {
   "cell_type": "code",
   "execution_count": 8,
   "metadata": {},
   "outputs": [
    {
     "name": "stdout",
     "output_type": "stream",
     "text": [
      "First representation: \n",
      "\n",
      "Kruskal representation of a tensor with rank=(5,).\n",
      "Factor matrices represent properties: ['mode-0', 'mode-1', 'mode-2']\n",
      "With corresponding latent components described by (10, 5, 10) features respectively. \n",
      "\n",
      "This tensor is of order 3 and consists of 500 elements.\n",
      "Sizes and names of its modes are (10, 5, 10) and ['mode-0', 'mode-1', 'mode-2'] respectively.\n"
     ]
    }
   ],
   "source": [
    "# Third representation\n",
    "\n",
    "# Create tensor dimensions\n",
    "I, J, K = 10, 5, 10\n",
    "R_3 = 5\n",
    "\n",
    "# Factor matrices\n",
    "A_3 = np.arange(I * R_3).reshape(I, R_3)\n",
    "B_3 = np.arange(J * R_3).reshape(J, R_3)\n",
    "C_3 = np.arange(K * R_3).reshape(K, R_3)\n",
    "\n",
    "# Create core values\n",
    "values_3 = np.arange(R_3)\n",
    "\n",
    "# Create Kruskal representation\n",
    "tensor_cpd_3 = TensorCPD(fmat=[A_3, B_3, C_3], core_values=values_3)\n",
    "\n",
    "# Result preview \n",
    "print(\"First representation:\",\"\\n\")\n",
    "print(tensor_cpd_3,\"\\n\")\n",
    "\n",
    "# From HOTTBOX documentation - functionoutput.reconstruct converts the CP representation of a tensor \n",
    "#                              into a full tensor (function has no input arguments)\n",
    "print(tensor_cpd_3.reconstruct())"
   ]
  },
  {
   "cell_type": "markdown",
   "metadata": {
    "toc-hr-collapsed": false
   },
   "source": [
    "### Solution: Part 4"
   ]
  },
  {
   "cell_type": "code",
   "execution_count": 9,
   "metadata": {},
   "outputs": [
    {
     "name": "stdout",
     "output_type": "stream",
     "text": [
      "First representation: \n",
      "\n",
      "Kruskal representation of a tensor with rank=(5,).\n",
      "Factor matrices represent properties: ['mode-0', 'mode-1', 'mode-2']\n",
      "With corresponding latent components described by (10, 10, 10) features respectively. \n",
      "\n",
      "This tensor is of order 3 and consists of 1000 elements.\n",
      "Sizes and names of its modes are (10, 10, 10) and ['mode-0', 'mode-1', 'mode-2'] respectively.\n"
     ]
    }
   ],
   "source": [
    "# First representation - Tensor order 3 (= number of factor matrices)\n",
    "\n",
    "# Create tensor dimensions\n",
    "I, J, K = 10, 10, 10\n",
    "R = 5 #Fixing the rank for consistency\n",
    "\n",
    "# Factor matrices\n",
    "A = np.arange(I * R).reshape(I, R)\n",
    "B = np.arange(J * R).reshape(J, R)\n",
    "C = np.arange(K * R).reshape(K, R)\n",
    "\n",
    "# Create core values\n",
    "values = np.arange(R)\n",
    "\n",
    "# Create Kruskal representation\n",
    "tensor_cpd = TensorCPD(fmat=[A, B, C], core_values=values)\n",
    "\n",
    "# Result preview \n",
    "print(\"First representation:\",\"\\n\")\n",
    "print(tensor_cpd,\"\\n\")\n",
    "\n",
    "# From HOTTBOX documentation - functionoutput.reconstruct converts the CP representation of a tensor \n",
    "#                              into a full tensor (function has no input arguments)\n",
    "print(tensor_cpd.reconstruct())"
   ]
  },
  {
   "cell_type": "code",
   "execution_count": 10,
   "metadata": {},
   "outputs": [
    {
     "name": "stdout",
     "output_type": "stream",
     "text": [
      "Second representation: \n",
      "\n",
      "Kruskal representation of a tensor with rank=(5,).\n",
      "Factor matrices represent properties: ['mode-0', 'mode-1', 'mode-2', 'mode-3']\n",
      "With corresponding latent components described by (4, 5, 5, 10) features respectively. \n",
      "\n",
      "This tensor is of order 4 and consists of 1000 elements.\n",
      "Sizes and names of its modes are (4, 5, 5, 10) and ['mode-0', 'mode-1', 'mode-2', 'mode-3'] respectively.\n"
     ]
    }
   ],
   "source": [
    "# Second representation - Tensor order 4 (= number of factor matrices)\n",
    "\n",
    "# Create tensor dimensions\n",
    "I, J, K, L = 4, 5, 5, 10\n",
    "R = 5 #Fixing the rank for consistency\n",
    "\n",
    "# Factor matrices\n",
    "A = np.arange(I * R).reshape(I, R)\n",
    "B = np.arange(J * R).reshape(J, R)\n",
    "C = np.arange(K * R).reshape(K, R)\n",
    "D = np.arange(L * R).reshape(L, R)\n",
    "\n",
    "# Create core values\n",
    "values = np.arange(R)\n",
    "\n",
    "# Create Kruskal representation\n",
    "tensor_cpd = TensorCPD(fmat=[A, B, C, D], core_values=values)\n",
    "\n",
    "# Result preview \n",
    "print(\"Second representation:\",\"\\n\")\n",
    "print(tensor_cpd,\"\\n\")\n",
    "\n",
    "# From HOTTBOX documentation - functionoutput.reconstruct converts the CP representation of a tensor \n",
    "#                              into a full tensor (function has no input arguments)\n",
    "print(tensor_cpd.reconstruct())"
   ]
  },
  {
   "cell_type": "code",
   "execution_count": 11,
   "metadata": {},
   "outputs": [
    {
     "name": "stdout",
     "output_type": "stream",
     "text": [
      "Third representation: \n",
      "\n",
      "Kruskal representation of a tensor with rank=(5,).\n",
      "Factor matrices represent properties: ['mode-0', 'mode-1', 'mode-2', 'mode-3', 'mode-4', 'mode-5']\n",
      "With corresponding latent components described by (2, 5, 2, 5, 2, 5) features respectively. \n",
      "\n",
      "This tensor is of order 6 and consists of 1000 elements.\n",
      "Sizes and names of its modes are (2, 5, 2, 5, 2, 5) and ['mode-0', 'mode-1', 'mode-2', 'mode-3', 'mode-4', 'mode-5'] respectively.\n"
     ]
    }
   ],
   "source": [
    "# Third representation - # Tensor order 6 (= number of factor matrices) \n",
    "\n",
    "# Create tensor dimensions\n",
    "I, J, K, L, M, N = 2, 5, 2, 5, 2, 5\n",
    "R = 5 #Fixing the rank for consistency\n",
    "\n",
    "# Factor matrices\n",
    "A = np.arange(I * R).reshape(I, R)\n",
    "B = np.arange(J * R).reshape(J, R)\n",
    "C = np.arange(K * R).reshape(K, R)\n",
    "D = np.arange(L * R).reshape(L, R)\n",
    "E = np.arange(M * R).reshape(M, R)\n",
    "F = np.arange(N * R).reshape(N, R)\n",
    "\n",
    "# Create core values\n",
    "values = np.arange(R)\n",
    "\n",
    "# Create Kruskal representation\n",
    "tensor_cpd = TensorCPD(fmat=[A, B, C, D, E, F], core_values=values)\n",
    "\n",
    "# Result preview \n",
    "print(\"Third representation:\",\"\\n\")\n",
    "print(tensor_cpd,\"\\n\")\n",
    "\n",
    "# From HOTTBOX documentation - functionoutput.reconstruct converts the CP representation of a tensor \n",
    "#                              into a full tensor (function has no input arguments)\n",
    "print(tensor_cpd.reconstruct())"
   ]
  },
  {
   "cell_type": "markdown",
   "metadata": {},
   "source": [
    "### Solution: Part 5"
   ]
  },
  {
   "cell_type": "code",
   "execution_count": 12,
   "metadata": {},
   "outputs": [
    {
     "name": "stdout",
     "output_type": "stream",
     "text": [
      "Kruskal Representation: \n",
      "\n",
      "Kruskal representation of a tensor with rank=(3,).\n",
      "Factor matrices represent properties: ['mode-0', 'mode-1', 'mode-2', 'mode-3']\n",
      "With corresponding latent components described by (7, 7, 7, 7) features respectively. \n",
      "\n",
      "This tensor is of order 4 and consists of 2401 elements.\n",
      "Sizes and names of its modes are (7, 7, 7, 7) and ['mode-0', 'mode-1', 'mode-2', 'mode-3'] respectively.\n"
     ]
    }
   ],
   "source": [
    "# Provide Kruskal representation here\n",
    "# Tensor order 4 (= number of factor matrices)\n",
    "\n",
    "# Create tensor dimensions\n",
    "I, J, K, L = 7, 7, 7, 7\n",
    "R = 3 #Setting the rank to 3 (=3^order core tensor elements, only 3 non-zero)\n",
    "\n",
    "# Factor matrices\n",
    "A = np.arange(I * R).reshape(I, R)\n",
    "B = np.arange(J * R).reshape(J, R)\n",
    "C = np.arange(K * R).reshape(K, R)\n",
    "D = np.arange(L * R).reshape(L, R)\n",
    "\n",
    "# Create core values\n",
    "values = np.arange(R)\n",
    "\n",
    "# Create Kruskal representation\n",
    "tensor_cpd = TensorCPD(fmat=[A, B, C, D], core_values=values)\n",
    "\n",
    "# Result preview \n",
    "print(\"Kruskal Representation:\",\"\\n\")\n",
    "print(tensor_cpd,\"\\n\")\n",
    "\n",
    "# From HOTTBOX documentation - functionoutput.reconstruct converts the CP representation of a tensor \n",
    "#                              into a full tensor (function has no input arguments)\n",
    "print(tensor_cpd.reconstruct())"
   ]
  },
  {
   "cell_type": "markdown",
   "metadata": {
    "toc-hr-collapsed": false
   },
   "source": [
    "# Tucker representation\n",
    "\n"
   ]
  },
  {
   "cell_type": "markdown",
   "metadata": {},
   "source": [
    "<img src=\"./imgs/TensorTKD.png\" alt=\"Drawing\" style=\"width: 600px;\"/>\n",
    "\n",
    "For a tensor $\\mathbf{\\underline{X}} \\in \\mathbb{R}^{I \\times J \\times K}$ illustrated above, the **Tucker form** represents the tensor in hand through a dense core tensor $\\mathbf{\\underline{G}}$ with multi-linear rank ($Q, R, P$) and a set of accompanying factor matrices $\\mathbf{A} \\in \\mathbb{R}^{I \\times Q}, \\mathbf{B} \\in \\mathbb{R}^{J \\times R}$ and $\\mathbf{C} \\in \\mathbb{R}^{K \\times P}$.\n",
    "\n",
    "$$\n",
    "\\mathbf{\\underline{X}} = \\sum_{q=1}^Q \\sum_{r=1}^R \\sum_{p=1}^P \\mathbf{\\underline{X}}_{qrp} = \\sum_{q=1}^Q \\sum_{r=1}^R \\sum_{p=1}^P g_{qrp} \\cdot \\mathbf{a}_q \\circ \\mathbf{b}_r \\circ \\mathbf{c}_p\n",
    "$$\n",
    "\n",
    "The Tucker form of a tensor is closely related to the Kruskal representation and can be expressed through a \n",
    "sequence of mode-$n$ products in a similar way, that is\n",
    "\n",
    "$$\n",
    "\\mathbf{\\underline{X}} = \\mathbf{\\underline{G}} \\times_1 \\mathbf{A} \\times_2 \\mathbf{B} \\times_3 \\mathbf{C} = \\Big[\\mathbf{\\underline{G}}; \\mathbf{A}, \\mathbf{B}, \\mathbf{C} \\Big]\n",
    "$$\n"
   ]
  },
  {
   "cell_type": "code",
   "execution_count": 13,
   "metadata": {},
   "outputs": [
    {
     "name": "stdout",
     "output_type": "stream",
     "text": [
      "Tucker representation of a tensor with multi-linear rank=(2, 3, 4).\n",
      "Factor matrices represent properties: ['mode-0', 'mode-1', 'mode-2']\n",
      "With corresponding latent components described by (5, 6, 7) features respectively.\n"
     ]
    }
   ],
   "source": [
    "# Create factor matrices\n",
    "I, J, K = 5, 6, 7  # define shape of the tensor in full form\n",
    "Q, R, P = 2, 3, 4  # define multi-linear rank of the tensor in Tucker form\n",
    "\n",
    "A = np.arange(I * Q).reshape(I, Q)\n",
    "B = np.arange(J * R).reshape(J, R)\n",
    "C = np.arange(K * P).reshape(K, P)\n",
    "\n",
    "# Create core values\n",
    "values = np.arange(Q * R * P).reshape(Q, R, P)\n",
    "\n",
    "# Create Tucker representation\n",
    "tensor_tkd = TensorTKD(fmat=[A, B, C], core_values=values)\n",
    "\n",
    "# Result preview\n",
    "print(tensor_tkd)"
   ]
  },
  {
   "cell_type": "markdown",
   "metadata": {},
   "source": [
    "## **Assigment 2**\n",
    "\n",
    "1. Core tensor of a Tucker representation consists of 1848 elements. Explain what tensor order should a tensor have to able to be represented in such form.\n",
    "\n",
    "2. For a 4-th order tensor that consists of 1000 elements, provide three different Tucker representations.\n",
    "\n",
    "3. For a 3-rd order tensor that consists of 500 elements, provide three different Tucker representations given that its core tensor consists of 42 elements.\n",
    "\n",
    "4. Provide an intuition behind the main difference between the Tucker and Kruskal representations.\n"
   ]
  },
  {
   "cell_type": "markdown",
   "metadata": {},
   "source": [
    "### Solution: Part 1"
   ]
  },
  {
   "cell_type": "code",
   "execution_count": 14,
   "metadata": {},
   "outputs": [
    {
     "name": "stdout",
     "output_type": "stream",
     "text": [
      "In general, the order of core tensor in both Tucker and Kruskal representations have the same order as the tensor itself.In order for Tucker core tensor to have 1848 elements, then the product of its dimensions must equal 1848.In order to identify the maximum order of core tensor, we consider the prime factorization of number 1848, which is equal to: 1848=2x2x2x3x7x11.Since the number of prime factors is 6, it means that the tensor order should be 6 at maximum in order to be able to be represented by Tucker form.\n"
     ]
    }
   ],
   "source": [
    "answer_2_1_1 = \"In general, the order of core tensor in both Tucker and Kruskal representations have the same order as the tensor itself.\"  # use this variable for your answer\n",
    "answer_2_1_2 = \"In order for Tucker core tensor to have 1848 elements, then the product of its dimensions must equal 1848.\"\n",
    "answer_2_1_3 = \"In order to identify the maximum order of core tensor, we consider the prime factorization of number 1848, which is equal to: 1848=2x2x2x3x7x11.\"\n",
    "answer_2_1_4 = \"Since the number of prime factors is 6, it means that the tensor order should be 6 at maximum in order to be able to be represented by Tucker form.\"\n",
    "answer_2_1 = answer_2_1_1+answer_2_1_2 + answer_2_1_3 + answer_2_1_4\n",
    "print(answer_2_1)"
   ]
  },
  {
   "cell_type": "markdown",
   "metadata": {},
   "source": [
    "### Solution: Part 2"
   ]
  },
  {
   "cell_type": "code",
   "execution_count": 15,
   "metadata": {},
   "outputs": [
    {
     "name": "stdout",
     "output_type": "stream",
     "text": [
      "Tucker representation of a tensor with multi-linear rank=(2, 3, 4, 5).\n",
      "Factor matrices represent properties: ['mode-0', 'mode-1', 'mode-2', 'mode-3']\n",
      "With corresponding latent components described by (2, 5, 5, 20) features respectively.\n",
      "\n",
      "\n",
      "Original tensor:\n",
      "This tensor is of order 4 and consists of 1000 elements.\n",
      "Sizes and names of its modes are (2, 5, 5, 20) and ['mode-0', 'mode-1', 'mode-2', 'mode-3'] respectively.\n"
     ]
    }
   ],
   "source": [
    "# First representation\n",
    "\n",
    "# Create factor matrices\n",
    "I, J, K, L = 2, 5, 5, 20  # define shape of the tensor in full form\n",
    "Q, R, P, S = 2, 3, 4, 5  # define multi-linear rank of the tensor in Tucker form\n",
    "\n",
    "A = np.arange(I * Q).reshape(I, Q)\n",
    "B = np.arange(J * R).reshape(J, R)\n",
    "C = np.arange(K * P).reshape(K, P)\n",
    "D = np.arange(L * S).reshape(L, S)\n",
    "\n",
    "# Create core values\n",
    "values = np.arange(Q * R * P * S).reshape(Q, R, P, S)\n",
    "\n",
    "# Create Tucker representation\n",
    "tensor_tkd = TensorTKD(fmat=[A, B, C, D], core_values=values)\n",
    "\n",
    "# Result preview\n",
    "print(tensor_tkd)\n",
    "print(\"\\n\")\n",
    "print(\"Original tensor:\")\n",
    "print(tensor_tkd.reconstruct())"
   ]
  },
  {
   "cell_type": "code",
   "execution_count": 16,
   "metadata": {},
   "outputs": [
    {
     "name": "stdout",
     "output_type": "stream",
     "text": [
      "Tucker representation of a tensor with multi-linear rank=(5, 6, 7, 8).\n",
      "Factor matrices represent properties: ['mode-0', 'mode-1', 'mode-2', 'mode-3']\n",
      "With corresponding latent components described by (2, 5, 5, 20) features respectively.\n",
      "\n",
      "\n",
      "Original tensor:\n",
      "This tensor is of order 4 and consists of 1000 elements.\n",
      "Sizes and names of its modes are (2, 5, 5, 20) and ['mode-0', 'mode-1', 'mode-2', 'mode-3'] respectively.\n"
     ]
    }
   ],
   "source": [
    "# Second representation\n",
    "\n",
    "# Create factor matrices\n",
    "I, J, K, L = 2, 5, 5, 20  # define shape of the tensor in full form\n",
    "Q, R, P, S = 5, 6, 7, 8  # define multi-linear rank of the tensor in Tucker form\n",
    "\n",
    "A = np.arange(I * Q).reshape(I, Q)\n",
    "B = np.arange(J * R).reshape(J, R)\n",
    "C = np.arange(K * P).reshape(K, P)\n",
    "D = np.arange(L * S).reshape(L, S)\n",
    "\n",
    "# Create core values\n",
    "values = np.arange(Q * R * P * S).reshape(Q, R, P, S)\n",
    "\n",
    "# Create Tucker representation\n",
    "tensor_tkd = TensorTKD(fmat=[A, B, C, D], core_values=values)\n",
    "\n",
    "# Result preview\n",
    "print(tensor_tkd)\n",
    "print(\"\\n\")\n",
    "print(\"Original tensor:\")\n",
    "print(tensor_tkd.reconstruct())"
   ]
  },
  {
   "cell_type": "code",
   "execution_count": 17,
   "metadata": {},
   "outputs": [
    {
     "name": "stdout",
     "output_type": "stream",
     "text": [
      "Tucker representation of a tensor with multi-linear rank=(4, 4, 4, 4).\n",
      "Factor matrices represent properties: ['mode-0', 'mode-1', 'mode-2', 'mode-3']\n",
      "With corresponding latent components described by (2, 5, 5, 20) features respectively.\n",
      "\n",
      "\n",
      "Original tensor:\n",
      "This tensor is of order 4 and consists of 1000 elements.\n",
      "Sizes and names of its modes are (2, 5, 5, 20) and ['mode-0', 'mode-1', 'mode-2', 'mode-3'] respectively.\n"
     ]
    }
   ],
   "source": [
    "# Third representation\n",
    "\n",
    "# Create factor matrices\n",
    "I, J, K, L = 2, 5, 5, 20  # define shape of the tensor in full form\n",
    "Q, R, P, S = 4, 4, 4, 4  # define multi-linear rank of the tensor in Tucker form\n",
    "\n",
    "A = np.arange(I * Q).reshape(I, Q)\n",
    "B = np.arange(J * R).reshape(J, R)\n",
    "C = np.arange(K * P).reshape(K, P)\n",
    "D = np.arange(L * S).reshape(L, S)\n",
    "\n",
    "# Create core values\n",
    "values = np.arange(Q * R * P * S).reshape(Q, R, P, S)\n",
    "\n",
    "# Create Tucker representation\n",
    "tensor_tkd = TensorTKD(fmat=[A, B, C, D], core_values=values)\n",
    "\n",
    "# Result preview\n",
    "print(tensor_tkd)\n",
    "print(\"\\n\")\n",
    "print(\"Original tensor:\")\n",
    "print(tensor_tkd.reconstruct())"
   ]
  },
  {
   "cell_type": "markdown",
   "metadata": {},
   "source": [
    "### Solution: Part 3"
   ]
  },
  {
   "cell_type": "code",
   "execution_count": 18,
   "metadata": {},
   "outputs": [
    {
     "name": "stdout",
     "output_type": "stream",
     "text": [
      "Tucker representation of a tensor with multi-linear rank=(2, 3, 7).\n",
      "Factor matrices represent properties: ['mode-0', 'mode-1', 'mode-2']\n",
      "With corresponding latent components described by (5, 10, 10) features respectively.\n",
      "\n",
      "\n",
      "Original tensor:\n",
      "This tensor is of order 3 and consists of 500 elements.\n",
      "Sizes and names of its modes are (5, 10, 10) and ['mode-0', 'mode-1', 'mode-2'] respectively.\n",
      "Core tensor:\n",
      "This tensor is of order 3 and consists of 42 elements.\n",
      "Sizes and names of its modes are (2, 3, 7) and ['mode-0', 'mode-1', 'mode-2'] respectively.\n"
     ]
    }
   ],
   "source": [
    "# First representation\n",
    "\n",
    "# Create factor matrices \n",
    "I, J, K = 5, 10, 10  # define shape of the tensor in full form\n",
    "Q, R, P = 2, 3, 7  # define multi-linear rank of the tensor in Tucker form\n",
    "\n",
    "A = np.arange(I * Q).reshape(I, Q)\n",
    "B = np.arange(J * R).reshape(J, R)\n",
    "C = np.arange(K * P).reshape(K, P)\n",
    "\n",
    "# Create core values\n",
    "values = np.arange(Q * R * P).reshape(Q, R, P)\n",
    "\n",
    "# Create Tucker representation\n",
    "tensor_tkd = TensorTKD(fmat=[A, B, C], core_values=values)\n",
    "\n",
    "# Result preview\n",
    "print(tensor_tkd)\n",
    "print(\"\\n\")\n",
    "print(\"Original tensor:\")\n",
    "print(tensor_tkd.reconstruct())\n",
    "print(\"Core tensor:\")\n",
    "print(tensor_tkd.core)                   "
   ]
  },
  {
   "cell_type": "code",
   "execution_count": 19,
   "metadata": {},
   "outputs": [
    {
     "name": "stdout",
     "output_type": "stream",
     "text": [
      "Tucker representation of a tensor with multi-linear rank=(3, 2, 7).\n",
      "Factor matrices represent properties: ['mode-0', 'mode-1', 'mode-2']\n",
      "With corresponding latent components described by (5, 10, 10) features respectively.\n",
      "\n",
      "\n",
      "Original tensor:\n",
      "This tensor is of order 3 and consists of 500 elements.\n",
      "Sizes and names of its modes are (5, 10, 10) and ['mode-0', 'mode-1', 'mode-2'] respectively.\n",
      "Core tensor:\n",
      "This tensor is of order 3 and consists of 42 elements.\n",
      "Sizes and names of its modes are (3, 2, 7) and ['mode-0', 'mode-1', 'mode-2'] respectively.\n"
     ]
    }
   ],
   "source": [
    "# Second representation\n",
    "\n",
    "# Create factor matrices \n",
    "I, J, K = 5, 10, 10  # define shape of the tensor in full form\n",
    "Q, R, P = 3, 2, 7  # define multi-linear rank of the tensor in Tucker form\n",
    "\n",
    "A = np.arange(I * Q).reshape(I, Q)\n",
    "B = np.arange(J * R).reshape(J, R)\n",
    "C = np.arange(K * P).reshape(K, P)\n",
    "\n",
    "# Create core values\n",
    "values = np.arange(Q * R * P).reshape(Q, R, P)\n",
    "\n",
    "# Create Tucker representation\n",
    "tensor_tkd = TensorTKD(fmat=[A, B, C], core_values=values)\n",
    "\n",
    "# Result preview\n",
    "print(tensor_tkd)\n",
    "print(\"\\n\")\n",
    "print(\"Original tensor:\")\n",
    "print(tensor_tkd.reconstruct())\n",
    "print(\"Core tensor:\")\n",
    "print(tensor_tkd.core) "
   ]
  },
  {
   "cell_type": "code",
   "execution_count": 20,
   "metadata": {},
   "outputs": [
    {
     "name": "stdout",
     "output_type": "stream",
     "text": [
      "Tucker representation of a tensor with multi-linear rank=(3, 7, 2).\n",
      "Factor matrices represent properties: ['mode-0', 'mode-1', 'mode-2']\n",
      "With corresponding latent components described by (5, 10, 10) features respectively.\n",
      "\n",
      "\n",
      "Original tensor:\n",
      "This tensor is of order 3 and consists of 500 elements.\n",
      "Sizes and names of its modes are (5, 10, 10) and ['mode-0', 'mode-1', 'mode-2'] respectively.\n",
      "Core tensor:\n",
      "This tensor is of order 3 and consists of 42 elements.\n",
      "Sizes and names of its modes are (3, 7, 2) and ['mode-0', 'mode-1', 'mode-2'] respectively.\n"
     ]
    }
   ],
   "source": [
    "# Third representation\n",
    "\n",
    "# Create factor matrices \n",
    "I, J, K = 5, 10, 10  # define shape of the tensor in full form\n",
    "Q, R, P = 3, 7, 2  # define multi-linear rank of the tensor in Tucker form\n",
    "\n",
    "A = np.arange(I * Q).reshape(I, Q)\n",
    "B = np.arange(J * R).reshape(J, R)\n",
    "C = np.arange(K * P).reshape(K, P)\n",
    "\n",
    "# Create core values\n",
    "values = np.arange(Q * R * P).reshape(Q, R, P)\n",
    "\n",
    "# Create Tucker representation\n",
    "tensor_tkd = TensorTKD(fmat=[A, B, C], core_values=values)\n",
    "\n",
    "# Result preview\n",
    "print(tensor_tkd)\n",
    "print(\"\\n\")\n",
    "print(\"Original tensor:\")\n",
    "print(tensor_tkd.reconstruct())\n",
    "print(\"Core tensor:\")\n",
    "print(tensor_tkd.core) \n"
   ]
  },
  {
   "cell_type": "markdown",
   "metadata": {},
   "source": [
    "### Solution: Part 4"
   ]
  },
  {
   "cell_type": "markdown",
   "metadata": {},
   "source": [
    "Kruskal decomposition is a form of Canonical Polyadic Decomposition (CPD) where a mild uniqueness condition is applied on CPD ensuring that any columns of factor matrices are linearly independent (factor matrices are full rank). When this mild condition is satisfied, then Kruskal form is unique for a tensor. CPD (Kruskal) considers the canonical (the minimal (rank-1) structure using minimum number of factors) and polyadic (the structure is formed by the outer product of N vectors) decomposition of a tensor by a linear combination of rank-1 tensors. This means that the core tensor of CPD contains non-zero elements along the main diagonal, thus ensuring that each factor 1 component of factor matrices are associated with one another and none of them is associated with any other set of components (factors). In other words, by decomposing order-N tensor $\\mathbf{X}$ into a sum of rank-1 tensors $\\mathbf{X}_{i} = \\mathbf{b}^{1}_{i} \\otimes \\dots \\mathbf{b}^{N}_{i}$, factor 1 components $\\mathbf{b}^{n}_{i}$ are only associated with each other and not with any other set of such components for $i \\neq j$. This effectively means that the dimension size in each mode of core tensor must be equal. \n",
    "\n",
    "Tucker decomposition (TKD) can be considered as an expansion to CPD, where decomposition is polyadic but\n",
    "not necessarily canonical, so tensor is not decomposed into rank-1 tensors but higher rank tensors. This means that factor matrices are not necessarily full-rank and any component from the different factor matrices can be associated with one another. Therefore, the TKD core tensor captures and models any mutual interaction between the vectors in different modes and it cannot be generally diagonalized. Since the core tensor is not necessarily diagonal as in CPD, the numbers of components in the different modes of core tensor can be different. As a result of this, TKD is not necessarily unique unless constraints are imposed on all factor matrices and/or the core tensor, but subspaces spanned by the factor matrices are unique. \n",
    "\n",
    "In summary, the CP decomposition can be considered as a special case of the Tucker decomposition, whereby the core tensor is diagonal, i.e. has only nonzero elements on the main diagonal."
   ]
  },
  {
   "cell_type": "code",
   "execution_count": null,
   "metadata": {},
   "outputs": [],
   "source": []
  }
 ],
 "metadata": {
  "kernelspec": {
   "display_name": "dpm-coursework",
   "language": "python",
   "name": "dpm-coursework"
  },
  "language_info": {
   "codemirror_mode": {
    "name": "ipython",
    "version": 3
   },
   "file_extension": ".py",
   "mimetype": "text/x-python",
   "name": "python",
   "nbconvert_exporter": "python",
   "pygments_lexer": "ipython3",
   "version": "3.7.3"
  },
  "toc-autonumbering": false,
  "toc-showcode": false
 },
 "nbformat": 4,
 "nbformat_minor": 2
}
