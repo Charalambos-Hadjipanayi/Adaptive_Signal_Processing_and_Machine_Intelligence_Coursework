{
 "cells": [
  {
   "cell_type": "code",
   "execution_count": 1,
   "metadata": {},
   "outputs": [],
   "source": [
    "%load_ext autoreload\n",
    "%autoreload 2\n",
    "%matplotlib inline"
   ]
  },
  {
   "cell_type": "code",
   "execution_count": 2,
   "metadata": {},
   "outputs": [],
   "source": [
    "import numpy as np\n",
    "import matplotlib.pyplot as plt\n",
    "from hottbox.core import Tensor"
   ]
  },
  {
   "cell_type": "markdown",
   "metadata": {
    "toc-hr-collapsed": false
   },
   "source": [
    "[Return to Table of Contents](./0_Table_of_contents.ipynb)"
   ]
  },
  {
   "cell_type": "markdown",
   "metadata": {
    "toc-hr-collapsed": false
   },
   "source": [
    "# Tensors and basic operations"
   ]
  },
  {
   "cell_type": "markdown",
   "metadata": {
    "toc-hr-collapsed": true
   },
   "source": [
    "<img src=\"./imgs/tensors_dogs.jpg\" alt=\"Drawing\" style=\"width: 500px;\"/>\n",
    "\n",
    "A tensor is a multi-dimenaional array of data where each dimension is conventionally referred to as the **mode**. Tensor order is defined by the number of its modes which is equivivalent to the number of indices required to identify a particular entry of a multi-dimensional array. For ease of visualisation and compact notation, we consider a third order tensor $\\mathbf{\\underline{X}} \\in \\mathbb{R}^{I \\times J \\times K}$. Thus, an element of such a tensor, $\\mathbf{\\underline{X}} \\in \\mathbb{R}^{I \\times J \\times K}$, can be written in a general form as:\n",
    "\n",
    "$$ x_{ijk} = \\mathbf{\\underline{X}}[i, j, k]$$\n",
    "\n",
    "> **Note:** In order to be consistent with Python indexing, count of modes and elements within starts from zeros.\n",
    "\n",
    "Creation of a tensor starts with a formation of a multidimensional array of data."
   ]
  },
  {
   "cell_type": "code",
   "execution_count": 3,
   "metadata": {},
   "outputs": [
    {
     "name": "stdout",
     "output_type": "stream",
     "text": [
      "This tensor is of order 3 and consists of 24 elements.\n",
      "Sizes and names of its modes are (2, 3, 4) and ['mode-0', 'mode-1', 'mode-2'] respectively.\n"
     ]
    },
    {
     "data": {
      "text/plain": [
       "array([[[ 0,  1,  2,  3],\n",
       "        [ 4,  5,  6,  7],\n",
       "        [ 8,  9, 10, 11]],\n",
       "\n",
       "       [[12, 13, 14, 15],\n",
       "        [16, 17, 18, 19],\n",
       "        [20, 21, 22, 23]]])"
      ]
     },
     "execution_count": 3,
     "metadata": {},
     "output_type": "execute_result"
    }
   ],
   "source": [
    "# Create 3-d array of data\n",
    "array_3d = np.arange(24).reshape((2, 3, 4))\n",
    "\n",
    "# Create tensor\n",
    "tensor = Tensor(array_3d)\n",
    "\n",
    "# Result preview\n",
    "print(tensor)\n",
    "tensor.data"
   ]
  },
  {
   "cell_type": "markdown",
   "metadata": {
    "toc-hr-collapsed": true
   },
   "source": [
    "## **Assigment 1**\n",
    "\n",
    "1. Create a tensor of order 5 (of any shape) and with all its values equal to 5. Then, calculate its Frobenious norm. \n",
    "2. Construct several tensors of orders varying from 3 to 20, with the size of each dimension equal to 2. Plot the relation between an order of a tensor and the number of its elements.\n",
    "3. Construct several tensors of order 3 with the size of each dimension varying from 3 to 15. Plot the relation between the size of dimensions of a tensor and the number of its elements.\n",
    "4. Analyse and compare the so obtained graphs."
   ]
  },
  {
   "cell_type": "markdown",
   "metadata": {},
   "source": [
    "### Solution: Part 1"
   ]
  },
  {
   "cell_type": "code",
   "execution_count": 4,
   "metadata": {},
   "outputs": [
    {
     "name": "stdout",
     "output_type": "stream",
     "text": [
      "This tensor is of order 5 and consists of 720 elements.\n",
      "Sizes and names of its modes are (2, 3, 4, 5, 6) and ['mode-0', 'mode-1', 'mode-2', 'mode-3', 'mode-4'] respectively.\n"
     ]
    },
    {
     "data": {
      "text/plain": [
       "array([[[[[5., 5., 5., 5., 5., 5.],\n",
       "          [5., 5., 5., 5., 5., 5.],\n",
       "          [5., 5., 5., 5., 5., 5.],\n",
       "          [5., 5., 5., 5., 5., 5.],\n",
       "          [5., 5., 5., 5., 5., 5.]],\n",
       "\n",
       "         [[5., 5., 5., 5., 5., 5.],\n",
       "          [5., 5., 5., 5., 5., 5.],\n",
       "          [5., 5., 5., 5., 5., 5.],\n",
       "          [5., 5., 5., 5., 5., 5.],\n",
       "          [5., 5., 5., 5., 5., 5.]],\n",
       "\n",
       "         [[5., 5., 5., 5., 5., 5.],\n",
       "          [5., 5., 5., 5., 5., 5.],\n",
       "          [5., 5., 5., 5., 5., 5.],\n",
       "          [5., 5., 5., 5., 5., 5.],\n",
       "          [5., 5., 5., 5., 5., 5.]],\n",
       "\n",
       "         [[5., 5., 5., 5., 5., 5.],\n",
       "          [5., 5., 5., 5., 5., 5.],\n",
       "          [5., 5., 5., 5., 5., 5.],\n",
       "          [5., 5., 5., 5., 5., 5.],\n",
       "          [5., 5., 5., 5., 5., 5.]]],\n",
       "\n",
       "\n",
       "        [[[5., 5., 5., 5., 5., 5.],\n",
       "          [5., 5., 5., 5., 5., 5.],\n",
       "          [5., 5., 5., 5., 5., 5.],\n",
       "          [5., 5., 5., 5., 5., 5.],\n",
       "          [5., 5., 5., 5., 5., 5.]],\n",
       "\n",
       "         [[5., 5., 5., 5., 5., 5.],\n",
       "          [5., 5., 5., 5., 5., 5.],\n",
       "          [5., 5., 5., 5., 5., 5.],\n",
       "          [5., 5., 5., 5., 5., 5.],\n",
       "          [5., 5., 5., 5., 5., 5.]],\n",
       "\n",
       "         [[5., 5., 5., 5., 5., 5.],\n",
       "          [5., 5., 5., 5., 5., 5.],\n",
       "          [5., 5., 5., 5., 5., 5.],\n",
       "          [5., 5., 5., 5., 5., 5.],\n",
       "          [5., 5., 5., 5., 5., 5.]],\n",
       "\n",
       "         [[5., 5., 5., 5., 5., 5.],\n",
       "          [5., 5., 5., 5., 5., 5.],\n",
       "          [5., 5., 5., 5., 5., 5.],\n",
       "          [5., 5., 5., 5., 5., 5.],\n",
       "          [5., 5., 5., 5., 5., 5.]]],\n",
       "\n",
       "\n",
       "        [[[5., 5., 5., 5., 5., 5.],\n",
       "          [5., 5., 5., 5., 5., 5.],\n",
       "          [5., 5., 5., 5., 5., 5.],\n",
       "          [5., 5., 5., 5., 5., 5.],\n",
       "          [5., 5., 5., 5., 5., 5.]],\n",
       "\n",
       "         [[5., 5., 5., 5., 5., 5.],\n",
       "          [5., 5., 5., 5., 5., 5.],\n",
       "          [5., 5., 5., 5., 5., 5.],\n",
       "          [5., 5., 5., 5., 5., 5.],\n",
       "          [5., 5., 5., 5., 5., 5.]],\n",
       "\n",
       "         [[5., 5., 5., 5., 5., 5.],\n",
       "          [5., 5., 5., 5., 5., 5.],\n",
       "          [5., 5., 5., 5., 5., 5.],\n",
       "          [5., 5., 5., 5., 5., 5.],\n",
       "          [5., 5., 5., 5., 5., 5.]],\n",
       "\n",
       "         [[5., 5., 5., 5., 5., 5.],\n",
       "          [5., 5., 5., 5., 5., 5.],\n",
       "          [5., 5., 5., 5., 5., 5.],\n",
       "          [5., 5., 5., 5., 5., 5.],\n",
       "          [5., 5., 5., 5., 5., 5.]]]],\n",
       "\n",
       "\n",
       "\n",
       "       [[[[5., 5., 5., 5., 5., 5.],\n",
       "          [5., 5., 5., 5., 5., 5.],\n",
       "          [5., 5., 5., 5., 5., 5.],\n",
       "          [5., 5., 5., 5., 5., 5.],\n",
       "          [5., 5., 5., 5., 5., 5.]],\n",
       "\n",
       "         [[5., 5., 5., 5., 5., 5.],\n",
       "          [5., 5., 5., 5., 5., 5.],\n",
       "          [5., 5., 5., 5., 5., 5.],\n",
       "          [5., 5., 5., 5., 5., 5.],\n",
       "          [5., 5., 5., 5., 5., 5.]],\n",
       "\n",
       "         [[5., 5., 5., 5., 5., 5.],\n",
       "          [5., 5., 5., 5., 5., 5.],\n",
       "          [5., 5., 5., 5., 5., 5.],\n",
       "          [5., 5., 5., 5., 5., 5.],\n",
       "          [5., 5., 5., 5., 5., 5.]],\n",
       "\n",
       "         [[5., 5., 5., 5., 5., 5.],\n",
       "          [5., 5., 5., 5., 5., 5.],\n",
       "          [5., 5., 5., 5., 5., 5.],\n",
       "          [5., 5., 5., 5., 5., 5.],\n",
       "          [5., 5., 5., 5., 5., 5.]]],\n",
       "\n",
       "\n",
       "        [[[5., 5., 5., 5., 5., 5.],\n",
       "          [5., 5., 5., 5., 5., 5.],\n",
       "          [5., 5., 5., 5., 5., 5.],\n",
       "          [5., 5., 5., 5., 5., 5.],\n",
       "          [5., 5., 5., 5., 5., 5.]],\n",
       "\n",
       "         [[5., 5., 5., 5., 5., 5.],\n",
       "          [5., 5., 5., 5., 5., 5.],\n",
       "          [5., 5., 5., 5., 5., 5.],\n",
       "          [5., 5., 5., 5., 5., 5.],\n",
       "          [5., 5., 5., 5., 5., 5.]],\n",
       "\n",
       "         [[5., 5., 5., 5., 5., 5.],\n",
       "          [5., 5., 5., 5., 5., 5.],\n",
       "          [5., 5., 5., 5., 5., 5.],\n",
       "          [5., 5., 5., 5., 5., 5.],\n",
       "          [5., 5., 5., 5., 5., 5.]],\n",
       "\n",
       "         [[5., 5., 5., 5., 5., 5.],\n",
       "          [5., 5., 5., 5., 5., 5.],\n",
       "          [5., 5., 5., 5., 5., 5.],\n",
       "          [5., 5., 5., 5., 5., 5.],\n",
       "          [5., 5., 5., 5., 5., 5.]]],\n",
       "\n",
       "\n",
       "        [[[5., 5., 5., 5., 5., 5.],\n",
       "          [5., 5., 5., 5., 5., 5.],\n",
       "          [5., 5., 5., 5., 5., 5.],\n",
       "          [5., 5., 5., 5., 5., 5.],\n",
       "          [5., 5., 5., 5., 5., 5.]],\n",
       "\n",
       "         [[5., 5., 5., 5., 5., 5.],\n",
       "          [5., 5., 5., 5., 5., 5.],\n",
       "          [5., 5., 5., 5., 5., 5.],\n",
       "          [5., 5., 5., 5., 5., 5.],\n",
       "          [5., 5., 5., 5., 5., 5.]],\n",
       "\n",
       "         [[5., 5., 5., 5., 5., 5.],\n",
       "          [5., 5., 5., 5., 5., 5.],\n",
       "          [5., 5., 5., 5., 5., 5.],\n",
       "          [5., 5., 5., 5., 5., 5.],\n",
       "          [5., 5., 5., 5., 5., 5.]],\n",
       "\n",
       "         [[5., 5., 5., 5., 5., 5.],\n",
       "          [5., 5., 5., 5., 5., 5.],\n",
       "          [5., 5., 5., 5., 5., 5.],\n",
       "          [5., 5., 5., 5., 5., 5.],\n",
       "          [5., 5., 5., 5., 5., 5.]]]]])"
      ]
     },
     "execution_count": 4,
     "metadata": {},
     "output_type": "execute_result"
    }
   ],
   "source": [
    "# Create a tensor\n",
    "array_5d = 5*np.ones(720).reshape((2, 3, 4, 5, 6))\n",
    "\n",
    "# Create tensor\n",
    "tensor_5d = Tensor(array_5d)\n",
    "\n",
    "# Result preview\n",
    "print(tensor_5d)\n",
    "tensor_5d.data"
   ]
  },
  {
   "cell_type": "code",
   "execution_count": 5,
   "metadata": {},
   "outputs": [
    {
     "name": "stdout",
     "output_type": "stream",
     "text": [
      "134.16407864998737\n"
     ]
    },
    {
     "data": {
      "text/plain": [
       "720"
      ]
     },
     "execution_count": 5,
     "metadata": {},
     "output_type": "execute_result"
    }
   ],
   "source": [
    "# Calculate Frobenious norm\n",
    "FrobeniousNorm = tensor_5d.frob_norm\n",
    "print(FrobeniousNorm)\n",
    "\n",
    "tensor_5d.size"
   ]
  },
  {
   "cell_type": "markdown",
   "metadata": {},
   "source": [
    "### Solution: Part 2"
   ]
  },
  {
   "cell_type": "code",
   "execution_count": 6,
   "metadata": {},
   "outputs": [
    {
     "name": "stdout",
     "output_type": "stream",
     "text": [
      "This tensor is of order 4 and consists of 16 elements.\n",
      "Sizes and names of its modes are (2, 2, 2, 2) and ['mode-0', 'mode-1', 'mode-2', 'mode-3'] respectively.\n"
     ]
    },
    {
     "data": {
      "text/plain": [
       "array([[[[1., 1.],\n",
       "         [1., 1.]],\n",
       "\n",
       "        [[1., 1.],\n",
       "         [1., 1.]]],\n",
       "\n",
       "\n",
       "       [[[1., 1.],\n",
       "         [1., 1.]],\n",
       "\n",
       "        [[1., 1.],\n",
       "         [1., 1.]]]])"
      ]
     },
     "execution_count": 6,
     "metadata": {},
     "output_type": "execute_result"
    }
   ],
   "source": [
    "# Initialise vector for storing number of elements\n",
    "num_elements =[]\n",
    "tensor_list=[]\n",
    "# Dimension size\n",
    "dim_size = 2\n",
    "# Re-shape input\n",
    "reshape_input = (dim_size,dim_size)\n",
    "# Re-shape input increasing dimension\n",
    "reshape_addition = (dim_size,)\n",
    "# Tensor orders\n",
    "orders = range(3, 21)\n",
    "# Create tensors and collect information\n",
    "for index in orders:\n",
    "    reshape_input+=reshape_addition\n",
    "    array = np.ones(dim_size**index).reshape(reshape_input)\n",
    "    tensor = Tensor(array)\n",
    "    tensor_list.append(tensor)\n",
    "    num_elements.append(tensor.size)\n",
    "# Instance of order 4\n",
    "print(tensor_list[1])\n",
    "tensor_list[1].data"
   ]
  },
  {
   "cell_type": "code",
   "execution_count": 7,
   "metadata": {},
   "outputs": [
    {
     "data": {
      "image/png": "[encoded data removed]",
      "text/plain": [
       "<Figure size 432x288 with 1 Axes>"
      ]
     },
     "metadata": {
      "needs_background": "light"
     },
     "output_type": "display_data"
    }
   ],
   "source": [
    "# Plot results\n",
    "plt.plot(orders,num_elements)\n",
    "plt.xlabel('Tensor Order')\n",
    "plt.ylabel('Number of elements')\n",
    "plt.legend(['Dimension Size = '+ str(dim_size)])\n",
    "plt.title('Relation between Tensor Order and number of its elements')\n",
    "# Customize the major grid\n",
    "plt.grid(which='major', linestyle='-', linewidth='0.5', color='black')\n",
    "plt.show()"
   ]
  },
  {
   "cell_type": "markdown",
   "metadata": {},
   "source": [
    "### Solution: Part 3"
   ]
  },
  {
   "cell_type": "code",
   "execution_count": 8,
   "metadata": {},
   "outputs": [
    {
     "name": "stdout",
     "output_type": "stream",
     "text": [
      "This tensor is of order 3 and consists of 64 elements.\n",
      "Sizes and names of its modes are (4, 4, 4) and ['mode-0', 'mode-1', 'mode-2'] respectively.\n"
     ]
    },
    {
     "data": {
      "text/plain": [
       "array([[[1., 1., 1., 1.],\n",
       "        [1., 1., 1., 1.],\n",
       "        [1., 1., 1., 1.],\n",
       "        [1., 1., 1., 1.]],\n",
       "\n",
       "       [[1., 1., 1., 1.],\n",
       "        [1., 1., 1., 1.],\n",
       "        [1., 1., 1., 1.],\n",
       "        [1., 1., 1., 1.]],\n",
       "\n",
       "       [[1., 1., 1., 1.],\n",
       "        [1., 1., 1., 1.],\n",
       "        [1., 1., 1., 1.],\n",
       "        [1., 1., 1., 1.]],\n",
       "\n",
       "       [[1., 1., 1., 1.],\n",
       "        [1., 1., 1., 1.],\n",
       "        [1., 1., 1., 1.],\n",
       "        [1., 1., 1., 1.]]])"
      ]
     },
     "execution_count": 8,
     "metadata": {},
     "output_type": "execute_result"
    }
   ],
   "source": [
    "# Create tensors and collect information\n",
    "# Initialise vector for storing number of elements\n",
    "num_elements2=[]\n",
    "tensor_list2=[]\n",
    "# Dimension sizes\n",
    "dim_size = range(3, 16)\n",
    "# Tensor order\n",
    "order = 3\n",
    "# Create tensors and collect information\n",
    "for index in dim_size:\n",
    "    array = np.ones(index**order).reshape(index,index,index)\n",
    "    tensor = Tensor(array)\n",
    "    tensor_list2.append(tensor)\n",
    "    num_elements2.append(tensor.size)\n",
    "# Instance of dimesion 4\n",
    "print(tensor_list2[1])\n",
    "tensor_list2[1].data"
   ]
  },
  {
   "cell_type": "code",
   "execution_count": 9,
   "metadata": {},
   "outputs": [
    {
     "data": {
      "image/png": "[encoded data removed]",
      "text/plain": [
       "<Figure size 432x288 with 1 Axes>"
      ]
     },
     "metadata": {
      "needs_background": "light"
     },
     "output_type": "display_data"
    }
   ],
   "source": [
    "# Plot results\n",
    "plt.plot(dim_size,num_elements2)\n",
    "plt.xlabel('Dimension Size')\n",
    "plt.ylabel('Number of elements')\n",
    "plt.legend(['Order = '+ str(order)])\n",
    "plt.title('Relation between size of dimensions of tensor and the number of its elements')\n",
    "# Customize the major grid\n",
    "plt.grid(which='major', linestyle='-', linewidth='0.5', color='black')\n",
    "plt.show()"
   ]
  },
  {
   "cell_type": "markdown",
   "metadata": {},
   "source": [
    "### Solution: Part 4"
   ]
  },
  {
   "cell_type": "markdown",
   "metadata": {},
   "source": [
    "By analysing the two plot obtained from part 2, where we vary tensor order (M) and keeping dimension size constant to a value of 2, we can identify that this is an exponential curve where number of elements $N=2^{M}$. On the other hand, in part 4 we vary size of each dimension (D) while keeping tensor order constant to a value of 3, and the generated plot is a cubic curve where number of elements $N=D^{3}$. In general, for a tensor with equally-sized dimensions, then the total number of elements $N=D^{M}$. By keeping $D$ fixed, we obtain an exponential increase in N and by keeping $M$ fixed, we obtain a polynomial (by power of $M$) increase in N of order M. \n",
    "\n",
    "The number of elements of tensor is proportional to the required memory for tensor storage and also proportional to the computational complexity for operations done on tensors, therefore the lower the number of elements the better. By analysing further the given data, the number of elements when tensor order varies from 3 to 9 is lower than that when size of dimension varies from 3 to 9 thus increasing dimension size in this range has a much higher effect in the number of elements than increasing tensor order. However, after a x-value of 9 on both curves, the exponential curve obtains a higher number of elements N compared to the cubic curve (after this x-value of 9 exponential increases more rapidly than the cubic), thus increasing tensor order in this range has a higher effect in the number of elements than increasing dimension size."
   ]
  },
  {
   "cell_type": "markdown",
   "metadata": {
    "toc-hr-collapsed": false
   },
   "source": [
    "# Most common tensor substructures\n",
    "<img src=\"./imgs/tensor_substructures.png\" alt=\"Drawing\" style=\"width: 500px;\"/>\n",
    "\n",
    "1. A **fiber** is a vector obtained by fixing all but one of the indices, e.g.  $\\mathbf{\\underline{X}}[i,:,k]$ is the mode-2 fiber $\\mathbf{\\underline{X}}$ (usually refered to as row fiber). \n",
    "\n",
    "1. Fixing all but two of the indices yields a matrix called a **slice** of a tensor, e.g. $\\mathbf{\\underline{X}}[:,:,k]$ is the mode-[1,2] slice (usually refered to as the frontal slice).\n",
    "\n",
    "**Note:** The same principles and definitions can be applied to a tensor of an arbitrarily large order. In addition, you can obtain a **subtensor** by fixing at least three indices and letting the remaining ones vary."
   ]
  },
  {
   "cell_type": "code",
   "execution_count": 10,
   "metadata": {},
   "outputs": [
    {
     "data": {
      "text/plain": [
       "array([1., 1., 1., 1., 1., 1., 1., 1., 1., 1., 1., 1., 1., 1., 1.])"
      ]
     },
     "execution_count": 10,
     "metadata": {},
     "output_type": "execute_result"
    }
   ],
   "source": [
    "# Mode-2 fiber\n",
    "tensor.data[0,1,:]"
   ]
  },
  {
   "cell_type": "code",
   "execution_count": 11,
   "metadata": {},
   "outputs": [
    {
     "data": {
      "text/plain": [
       "array([[1., 1., 1., 1., 1., 1., 1., 1., 1., 1., 1., 1., 1., 1., 1.],\n",
       "       [1., 1., 1., 1., 1., 1., 1., 1., 1., 1., 1., 1., 1., 1., 1.],\n",
       "       [1., 1., 1., 1., 1., 1., 1., 1., 1., 1., 1., 1., 1., 1., 1.],\n",
       "       [1., 1., 1., 1., 1., 1., 1., 1., 1., 1., 1., 1., 1., 1., 1.],\n",
       "       [1., 1., 1., 1., 1., 1., 1., 1., 1., 1., 1., 1., 1., 1., 1.],\n",
       "       [1., 1., 1., 1., 1., 1., 1., 1., 1., 1., 1., 1., 1., 1., 1.],\n",
       "       [1., 1., 1., 1., 1., 1., 1., 1., 1., 1., 1., 1., 1., 1., 1.],\n",
       "       [1., 1., 1., 1., 1., 1., 1., 1., 1., 1., 1., 1., 1., 1., 1.],\n",
       "       [1., 1., 1., 1., 1., 1., 1., 1., 1., 1., 1., 1., 1., 1., 1.],\n",
       "       [1., 1., 1., 1., 1., 1., 1., 1., 1., 1., 1., 1., 1., 1., 1.],\n",
       "       [1., 1., 1., 1., 1., 1., 1., 1., 1., 1., 1., 1., 1., 1., 1.],\n",
       "       [1., 1., 1., 1., 1., 1., 1., 1., 1., 1., 1., 1., 1., 1., 1.],\n",
       "       [1., 1., 1., 1., 1., 1., 1., 1., 1., 1., 1., 1., 1., 1., 1.],\n",
       "       [1., 1., 1., 1., 1., 1., 1., 1., 1., 1., 1., 1., 1., 1., 1.],\n",
       "       [1., 1., 1., 1., 1., 1., 1., 1., 1., 1., 1., 1., 1., 1., 1.]])"
      ]
     },
     "execution_count": 11,
     "metadata": {},
     "output_type": "execute_result"
    }
   ],
   "source": [
    "# Frontal slice\n",
    "tensor.data[0,:,:]"
   ]
  },
  {
   "cell_type": "markdown",
   "metadata": {
    "toc-hr-collapsed": true
   },
   "source": [
    "## **Assigment 2**\n",
    "\n",
    "1. Create a tensor of order 4 which consists of 81 elements and display all its horizontal slices and any five row fibers.\n",
    "2. Create a tensor of order 3 and shape `(4,2,5)`, where the values of each consequent frontal slice are doubled."
   ]
  },
  {
   "cell_type": "markdown",
   "metadata": {},
   "source": [
    "### Solution: Part 1"
   ]
  },
  {
   "cell_type": "code",
   "execution_count": 12,
   "metadata": {},
   "outputs": [],
   "source": [
    "# Create a tensor of order 4\n",
    "array_4d = np.arange(81).reshape((3, 3, 3, 3))\n",
    "tensor_4d = Tensor(array_4d)"
   ]
  },
  {
   "cell_type": "code",
   "execution_count": 13,
   "metadata": {},
   "outputs": [
    {
     "name": "stdout",
     "output_type": "stream",
     "text": [
      "[[ 0  3  6]\n",
      " [ 9 12 15]\n",
      " [18 21 24]]\n",
      "[[ 1  4  7]\n",
      " [10 13 16]\n",
      " [19 22 25]]\n",
      "[[ 2  5  8]\n",
      " [11 14 17]\n",
      " [20 23 26]]\n",
      "[[27 30 33]\n",
      " [36 39 42]\n",
      " [45 48 51]]\n",
      "[[28 31 34]\n",
      " [37 40 43]\n",
      " [46 49 52]]\n",
      "[[29 32 35]\n",
      " [38 41 44]\n",
      " [47 50 53]]\n",
      "[[54 57 60]\n",
      " [63 66 69]\n",
      " [72 75 78]]\n",
      "[[55 58 61]\n",
      " [64 67 70]\n",
      " [73 76 79]]\n",
      "[[56 59 62]\n",
      " [65 68 71]\n",
      " [74 77 80]]\n"
     ]
    }
   ],
   "source": [
    "# Display horizontal slices (mode-[2,3])- According to definition given in the image \n",
    "for i in range(0,3):\n",
    "    for j in range(0,3):\n",
    "        print(tensor_4d.data[i,:,:,j])"
   ]
  },
  {
   "cell_type": "code",
   "execution_count": 14,
   "metadata": {},
   "outputs": [
    {
     "name": "stdout",
     "output_type": "stream",
     "text": [
      "[ 0  9 18]\n",
      "[ 4 13 22]\n",
      "[ 8 17 26]\n",
      "[31 40 49]\n",
      "[35 44 53]\n"
     ]
    }
   ],
   "source": [
    "# Display fibers - any five row fibers\n",
    "print(tensor_4d.data[0,:,0,0])\n",
    "print(tensor_4d.data[0,:,1,1])\n",
    "print(tensor_4d.data[0,:,2,2])\n",
    "print(tensor_4d.data[1,:,1,1])\n",
    "print(tensor_4d.data[1,:,2,2])"
   ]
  },
  {
   "cell_type": "markdown",
   "metadata": {},
   "source": [
    "### Solution: Part 2"
   ]
  },
  {
   "cell_type": "code",
   "execution_count": 15,
   "metadata": {},
   "outputs": [
    {
     "name": "stdout",
     "output_type": "stream",
     "text": [
      "[[[ 1  2  4  8 16]\n",
      "  [ 1  2  4  8 16]]\n",
      "\n",
      " [[ 1  2  4  8 16]\n",
      "  [ 1  2  4  8 16]]\n",
      "\n",
      " [[ 1  2  4  8 16]\n",
      "  [ 1  2  4  8 16]]\n",
      "\n",
      " [[ 1  2  4  8 16]\n",
      "  [ 1  2  4  8 16]]]\n"
     ]
    }
   ],
   "source": [
    "# Create a tensor of order 3\n",
    "# Create a tensor of order 3 and shape (4,2,5), where the values of each consequent frontal slice are doubled\n",
    "array_4d = np.ones(40,dtype=int).reshape((4, 2, 5))\n",
    "tensor_4d = Tensor(array_4d)\n",
    "# Itetare over all frontal slices -1 \n",
    "factor = 2 \n",
    "for i in range(4):\n",
    "    tensor_4d.data[:,:,i+1]= tensor_4d.data[:,:,i]*factor\n",
    "print(tensor_4d.data)"
   ]
  },
  {
   "cell_type": "markdown",
   "metadata": {
    "toc-hr-collapsed": false
   },
   "source": [
    "# Unfolding\n",
    "\n",
    "Conventionally, unfolding is considered to be a process of element mapping from a tensor to a matrix. In other words, it arranges the mode-$n$ fibers of a tensor to be the matrix columns. Thus, the mode-$n$ unfolding is denoted as:\n",
    "\n",
    "$$\\mathbf{\\underline{A}} \\xrightarrow{n} \\mathbf{A}_{(n)}$$\n",
    "\n",
    "Thus, this operations requires to specify a mode along which a tensor will be unfolded. For a third order tensor, a visual representation of such operation is as following\n",
    "\n",
    "<img src=\"./imgs/unfolding.png\" alt=\"Drawing\" style=\"width: 600px;\"/>\n",
    "\n",
    "In `hottbox` this functionality is available through the corresponding methods of the `Tensor` object, for instance:"
   ]
  },
  {
   "cell_type": "code",
   "execution_count": 16,
   "metadata": {},
   "outputs": [
    {
     "name": "stdout",
     "output_type": "stream",
     "text": [
      "[[[ 0  1  2  3]\n",
      "  [ 4  5  6  7]\n",
      "  [ 8  9 10 11]]\n",
      "\n",
      " [[12 13 14 15]\n",
      "  [16 17 18 19]\n",
      "  [20 21 22 23]]]\n",
      "This tensor is of order 2 and consists of 24 elements.\n",
      "Sizes and names of its modes are (4, 6) and ['mode-2', 'mode-0_mode-1'] respectively.\n"
     ]
    },
    {
     "data": {
      "text/plain": [
       "array([[ 0,  4,  8, 12, 16, 20],\n",
       "       [ 1,  5,  9, 13, 17, 21],\n",
       "       [ 2,  6, 10, 14, 18, 22],\n",
       "       [ 3,  7, 11, 15, 19, 23]])"
      ]
     },
     "execution_count": 16,
     "metadata": {},
     "output_type": "execute_result"
    }
   ],
   "source": [
    "# Create 3-d array of data\n",
    "array_3d = np.arange(24).reshape((2, 3, 4))\n",
    "\n",
    "# Create tensor\n",
    "tensor = Tensor(array_3d)\n",
    "print(tensor.data)\n",
    "\n",
    "# Unfolding of a tensor\n",
    "# Mode starts from 0 in python\n",
    "tensor.unfold(mode=2)\n",
    "\n",
    "# Result preview\n",
    "print(tensor)\n",
    "tensor.data"
   ]
  },
  {
   "cell_type": "markdown",
   "metadata": {
    "toc-hr-collapsed": true
   },
   "source": [
    "## **Assigment 3**\n",
    "\n",
    "1. Create a tensor, $\\mathbf{\\underline{A}}$, of order 4, in such a way that its version unfolded along the second mode would have sizes `(5,72)`, that is $\\mathbf{A}_{(n)} \\in  \\mathbb{R}^{5 \\times 72}$. Validate your results by displaying the unfolded tensor."
   ]
  },
  {
   "cell_type": "markdown",
   "metadata": {},
   "source": [
    "### Solution : Part 1"
   ]
  },
  {
   "cell_type": "code",
   "execution_count": 17,
   "metadata": {},
   "outputs": [
    {
     "name": "stdout",
     "output_type": "stream",
     "text": [
      "[[[[  0   1   2   3   4   5   6   7   8]\n",
      "   [  9  10  11  12  13  14  15  16  17]\n",
      "   [ 18  19  20  21  22  23  24  25  26]\n",
      "   [ 27  28  29  30  31  32  33  34  35]]\n",
      "\n",
      "  [[ 36  37  38  39  40  41  42  43  44]\n",
      "   [ 45  46  47  48  49  50  51  52  53]\n",
      "   [ 54  55  56  57  58  59  60  61  62]\n",
      "   [ 63  64  65  66  67  68  69  70  71]]\n",
      "\n",
      "  [[ 72  73  74  75  76  77  78  79  80]\n",
      "   [ 81  82  83  84  85  86  87  88  89]\n",
      "   [ 90  91  92  93  94  95  96  97  98]\n",
      "   [ 99 100 101 102 103 104 105 106 107]]\n",
      "\n",
      "  [[108 109 110 111 112 113 114 115 116]\n",
      "   [117 118 119 120 121 122 123 124 125]\n",
      "   [126 127 128 129 130 131 132 133 134]\n",
      "   [135 136 137 138 139 140 141 142 143]]\n",
      "\n",
      "  [[144 145 146 147 148 149 150 151 152]\n",
      "   [153 154 155 156 157 158 159 160 161]\n",
      "   [162 163 164 165 166 167 168 169 170]\n",
      "   [171 172 173 174 175 176 177 178 179]]]\n",
      "\n",
      "\n",
      " [[[180 181 182 183 184 185 186 187 188]\n",
      "   [189 190 191 192 193 194 195 196 197]\n",
      "   [198 199 200 201 202 203 204 205 206]\n",
      "   [207 208 209 210 211 212 213 214 215]]\n",
      "\n",
      "  [[216 217 218 219 220 221 222 223 224]\n",
      "   [225 226 227 228 229 230 231 232 233]\n",
      "   [234 235 236 237 238 239 240 241 242]\n",
      "   [243 244 245 246 247 248 249 250 251]]\n",
      "\n",
      "  [[252 253 254 255 256 257 258 259 260]\n",
      "   [261 262 263 264 265 266 267 268 269]\n",
      "   [270 271 272 273 274 275 276 277 278]\n",
      "   [279 280 281 282 283 284 285 286 287]]\n",
      "\n",
      "  [[288 289 290 291 292 293 294 295 296]\n",
      "   [297 298 299 300 301 302 303 304 305]\n",
      "   [306 307 308 309 310 311 312 313 314]\n",
      "   [315 316 317 318 319 320 321 322 323]]\n",
      "\n",
      "  [[324 325 326 327 328 329 330 331 332]\n",
      "   [333 334 335 336 337 338 339 340 341]\n",
      "   [342 343 344 345 346 347 348 349 350]\n",
      "   [351 352 353 354 355 356 357 358 359]]]]\n"
     ]
    }
   ],
   "source": [
    "# Create a tensor\n",
    "# Create 4-d array of data\n",
    "array_4d = np.arange(360).reshape((2, 5, 4, 9))\n",
    "\n",
    "# Create tensor\n",
    "tensor = Tensor(array_4d)\n",
    "print(tensor.data)"
   ]
  },
  {
   "cell_type": "code",
   "execution_count": 18,
   "metadata": {},
   "outputs": [
    {
     "name": "stdout",
     "output_type": "stream",
     "text": [
      "This tensor is of order 2 and consists of 360 elements.\n",
      "Sizes and names of its modes are (5, 72) and ['mode-1', 'mode-0_mode-2_mode-3'] respectively.\n"
     ]
    },
    {
     "data": {
      "text/plain": [
       "array([[  0,   1,   2,   3,   4,   5,   6,   7,   8,   9,  10,  11,  12,\n",
       "         13,  14,  15,  16,  17,  18,  19,  20,  21,  22,  23,  24,  25,\n",
       "         26,  27,  28,  29,  30,  31,  32,  33,  34,  35, 180, 181, 182,\n",
       "        183, 184, 185, 186, 187, 188, 189, 190, 191, 192, 193, 194, 195,\n",
       "        196, 197, 198, 199, 200, 201, 202, 203, 204, 205, 206, 207, 208,\n",
       "        209, 210, 211, 212, 213, 214, 215],\n",
       "       [ 36,  37,  38,  39,  40,  41,  42,  43,  44,  45,  46,  47,  48,\n",
       "         49,  50,  51,  52,  53,  54,  55,  56,  57,  58,  59,  60,  61,\n",
       "         62,  63,  64,  65,  66,  67,  68,  69,  70,  71, 216, 217, 218,\n",
       "        219, 220, 221, 222, 223, 224, 225, 226, 227, 228, 229, 230, 231,\n",
       "        232, 233, 234, 235, 236, 237, 238, 239, 240, 241, 242, 243, 244,\n",
       "        245, 246, 247, 248, 249, 250, 251],\n",
       "       [ 72,  73,  74,  75,  76,  77,  78,  79,  80,  81,  82,  83,  84,\n",
       "         85,  86,  87,  88,  89,  90,  91,  92,  93,  94,  95,  96,  97,\n",
       "         98,  99, 100, 101, 102, 103, 104, 105, 106, 107, 252, 253, 254,\n",
       "        255, 256, 257, 258, 259, 260, 261, 262, 263, 264, 265, 266, 267,\n",
       "        268, 269, 270, 271, 272, 273, 274, 275, 276, 277, 278, 279, 280,\n",
       "        281, 282, 283, 284, 285, 286, 287],\n",
       "       [108, 109, 110, 111, 112, 113, 114, 115, 116, 117, 118, 119, 120,\n",
       "        121, 122, 123, 124, 125, 126, 127, 128, 129, 130, 131, 132, 133,\n",
       "        134, 135, 136, 137, 138, 139, 140, 141, 142, 143, 288, 289, 290,\n",
       "        291, 292, 293, 294, 295, 296, 297, 298, 299, 300, 301, 302, 303,\n",
       "        304, 305, 306, 307, 308, 309, 310, 311, 312, 313, 314, 315, 316,\n",
       "        317, 318, 319, 320, 321, 322, 323],\n",
       "       [144, 145, 146, 147, 148, 149, 150, 151, 152, 153, 154, 155, 156,\n",
       "        157, 158, 159, 160, 161, 162, 163, 164, 165, 166, 167, 168, 169,\n",
       "        170, 171, 172, 173, 174, 175, 176, 177, 178, 179, 324, 325, 326,\n",
       "        327, 328, 329, 330, 331, 332, 333, 334, 335, 336, 337, 338, 339,\n",
       "        340, 341, 342, 343, 344, 345, 346, 347, 348, 349, 350, 351, 352,\n",
       "        353, 354, 355, 356, 357, 358, 359]])"
      ]
     },
     "execution_count": 18,
     "metadata": {},
     "output_type": "execute_result"
    }
   ],
   "source": [
    "# Display unfolded version\n",
    "# Mode starts from 0 in python\n",
    "tensor.unfold(mode=1)\n",
    "\n",
    "# Result preview\n",
    "print(tensor)\n",
    "tensor.data"
   ]
  },
  {
   "cell_type": "markdown",
   "metadata": {
    "toc-hr-collapsed": false
   },
   "source": [
    "# Mode-n product \n",
    "<img src=\"./imgs/mode_n_product.png\" alt=\"Drawing\" style=\"width: 600px;\"/>\n",
    "\n",
    "The mode-$n$ product is a multiplication of a tensor  by a matrix along the $n^{th}$ mode of a tensor. This essentially means that each mode-$n$ fiber should be multiplied by this matrix. Mathematically, this can be expressed as:\n",
    "\n",
    "$$\\mathbf{\\underline{X}} \\times_n \\mathbf{A} = \\mathbf{\\underline{Y}} \\quad \\Leftrightarrow  \\quad \\mathbf{Y}_{(n)} = \\mathbf{A} \\mathbf{X}_{(n)}  $$"
   ]
  },
  {
   "cell_type": "code",
   "execution_count": 19,
   "metadata": {},
   "outputs": [
    {
     "name": "stdout",
     "output_type": "stream",
     "text": [
      "This tensor is of order 3 and consists of 40 elements.\n",
      "Sizes and names of its modes are (2, 5, 4) and ['mode-0', 'mode-1', 'mode-2'] respectively.\n"
     ]
    },
    {
     "data": {
      "text/plain": [
       "array([[ 20,  23,  26,  29,  56,  59,  62,  65],\n",
       "       [ 56,  68,  80,  92, 200, 212, 224, 236],\n",
       "       [ 92, 113, 134, 155, 344, 365, 386, 407],\n",
       "       [128, 158, 188, 218, 488, 518, 548, 578],\n",
       "       [164, 203, 242, 281, 632, 671, 710, 749]])"
      ]
     },
     "execution_count": 19,
     "metadata": {},
     "output_type": "execute_result"
    }
   ],
   "source": [
    "I, J, K = 2, 3, 4\n",
    "J_new = 5\n",
    "\n",
    "# Create tensor\n",
    "array_3d = np.arange(I * J * K).reshape(I, J ,K)\n",
    "X = Tensor(array_3d)\n",
    "\n",
    "# Create matrix\n",
    "A = np.arange(J_new * J).reshape(J_new, J)\n",
    "\n",
    "# Performs Mode-n product \n",
    "Y = X.mode_n_product(A, mode=1, inplace=False)\n",
    "\n",
    "# Preview of resulting tensor\n",
    "print(Y)\n",
    "\n",
    "# Preview of its unfolded version\n",
    "Y.unfold(mode=1, inplace=False).data"
   ]
  },
  {
   "cell_type": "markdown",
   "metadata": {
    "toc-hr-collapsed": true
   },
   "source": [
    "## **Assignment 4**\n",
    "\n",
    "1. Perform the mode-$n$ product of a 3-rd order tensor, $\\mathbf{\\underline{X}}$, with a matrix, $\\mathbf{A} \\in  \\mathbb{R}^{5 \\times 4}$, provided that the resulting tensor, $\\mathbf{\\underline{Y}}$, consists of `100` elements. Validate your results. \n",
    "\n",
    "> **Note:** You are encouraged to experiment with the optional parameter `inplace` and to investigate its effect on the result."
   ]
  },
  {
   "cell_type": "markdown",
   "metadata": {},
   "source": [
    "### Solution: Part 1"
   ]
  },
  {
   "cell_type": "code",
   "execution_count": 20,
   "metadata": {},
   "outputs": [],
   "source": [
    "# Create original tensor \n",
    "I, J, K = 4, 4, 5\n",
    "\n",
    "# Create tensor\n",
    "array_3d = np.arange(I * J * K).reshape(I, J ,K)\n",
    "X = Tensor(array_3d)"
   ]
  },
  {
   "cell_type": "code",
   "execution_count": 21,
   "metadata": {},
   "outputs": [],
   "source": [
    "# Create matrix\n",
    "J_new = 5\n",
    "A = np.arange(J_new * J).reshape(J_new, J)"
   ]
  },
  {
   "cell_type": "code",
   "execution_count": 22,
   "metadata": {},
   "outputs": [
    {
     "name": "stdout",
     "output_type": "stream",
     "text": [
      "This tensor is of order 3 and consists of 100 elements.\n",
      "Sizes and names of its modes are (4, 5, 5) and ['mode-0', 'mode-1', 'mode-2'] respectively.\n"
     ]
    },
    {
     "data": {
      "text/plain": [
       "array([[  70,   76,   82,   88,   94,  190,  196,  202,  208,  214,  310,\n",
       "         316,  322,  328,  334,  430,  436,  442,  448,  454],\n",
       "       [ 190,  212,  234,  256,  278,  630,  652,  674,  696,  718, 1070,\n",
       "        1092, 1114, 1136, 1158, 1510, 1532, 1554, 1576, 1598],\n",
       "       [ 310,  348,  386,  424,  462, 1070, 1108, 1146, 1184, 1222, 1830,\n",
       "        1868, 1906, 1944, 1982, 2590, 2628, 2666, 2704, 2742],\n",
       "       [ 430,  484,  538,  592,  646, 1510, 1564, 1618, 1672, 1726, 2590,\n",
       "        2644, 2698, 2752, 2806, 3670, 3724, 3778, 3832, 3886],\n",
       "       [ 550,  620,  690,  760,  830, 1950, 2020, 2090, 2160, 2230, 3350,\n",
       "        3420, 3490, 3560, 3630, 4750, 4820, 4890, 4960, 5030]])"
      ]
     },
     "execution_count": 22,
     "metadata": {},
     "output_type": "execute_result"
    }
   ],
   "source": [
    "# Perform mode-n product \n",
    "Y = X.mode_n_product(A, mode=1, inplace=False)\n",
    "\n",
    "# Preview of resulting tensor\n",
    "print(Y)\n",
    "\n",
    "# Preview of its unfolded version\n",
    "Y.unfold(mode=1, inplace=False).data"
   ]
  },
  {
   "cell_type": "code",
   "execution_count": 23,
   "metadata": {},
   "outputs": [
    {
     "name": "stdout",
     "output_type": "stream",
     "text": [
      "True\n"
     ]
    }
   ],
   "source": [
    "# Validate equivalence between the left and right hand side of 𝐘(𝑛)=𝐀𝐗(𝑛)\n",
    "# LHS - mode 2 unfolding of Y\n",
    "LHS = Y.unfold(mode=1, inplace=False).data\n",
    "# RHS - A * mode 2 unfolding of tensor X\n",
    "RHS = np.matmul(A, X.unfold(mode=1, inplace=False).data)\n",
    "# Check if LHS=RHS - i.e. check if the two arrays are equal\n",
    "check = np.array_equal(LHS,RHS)\n",
    "print(check)"
   ]
  },
  {
   "cell_type": "markdown",
   "metadata": {},
   "source": [
    "# Properties of mode-n product\n",
    "\n",
    "1. For distinct modes in a series of multiplications, the order of the multiplication is irrelevent: \n",
    "\n",
    "    $$\\mathbf{\\underline{X}} \\times_n \\mathbf{A} \\times_m \\mathbf{B} = \\mathbf{\\underline{X}} \\times_m \\mathbf{B} \\times_n \\mathbf{A} \\quad (m \\neq n)$$\n",
    "\n",
    "1. However, this does not hold if the modes are the same :\n",
    "\n",
    "    $$\\mathbf{\\underline{X}} \\times_n \\mathbf{A} \\times_n \\mathbf{B} = \\mathbf{\\underline{X}} \\times_n (\\mathbf{B}\\mathbf{A})$$"
   ]
  },
  {
   "cell_type": "markdown",
   "metadata": {
    "toc-hr-collapsed": true
   },
   "source": [
    "## **Assignment 5**\n",
    "\n",
    "1. Validate both of the above properties empirically \n",
    "2. Prove the second property analytically\n",
    "\n",
    "> **Note:** Be aware of consequences of the optional parameter `inplace` (its default value is set to `True`)."
   ]
  },
  {
   "cell_type": "markdown",
   "metadata": {},
   "source": [
    "### Solution: Part 1"
   ]
  },
  {
   "cell_type": "code",
   "execution_count": 24,
   "metadata": {},
   "outputs": [],
   "source": [
    "# Create tensor\n",
    "I, J, K = 3, 4, 5\n",
    "\n",
    "# Create tensor\n",
    "array_3d = np.arange(I * J * K).reshape(I, J ,K)\n",
    "X = Tensor(array_3d)"
   ]
  },
  {
   "cell_type": "code",
   "execution_count": 25,
   "metadata": {},
   "outputs": [],
   "source": [
    "# Create matrices\n",
    "J_A = 5\n",
    "J_B = 4\n",
    "# Matrix A\n",
    "A = np.arange(J_A * J).reshape(J_A, J)\n",
    "# Matrix B\n",
    "B = np.arange(J_B * K).reshape(J_B, K)"
   ]
  },
  {
   "cell_type": "code",
   "execution_count": 26,
   "metadata": {},
   "outputs": [
    {
     "name": "stdout",
     "output_type": "stream",
     "text": [
      "True\n"
     ]
    }
   ],
   "source": [
    "# Validate property 1 (modes are not the same) - 𝐗 ×𝑛 𝐀 ×𝑚 𝐁 = 𝐗 ×𝑚 𝐁 ×𝑛 𝐀\n",
    "# Considering LHS \n",
    "LHS = X.mode_n_product(A, mode=1, inplace=False).mode_n_product(B, mode=2, inplace=False)\n",
    "# Considering RHS \n",
    "RHS = X.mode_n_product(B, mode=2, inplace=False).mode_n_product(A, mode=1, inplace=False)\n",
    "\n",
    "# Check if LHS=RHS - i.e. check if the two arrays are equal\n",
    "check = np.array_equal(LHS,RHS)\n",
    "print(check)"
   ]
  },
  {
   "cell_type": "code",
   "execution_count": 27,
   "metadata": {},
   "outputs": [
    {
     "name": "stdout",
     "output_type": "stream",
     "text": [
      "True\n"
     ]
    }
   ],
   "source": [
    "# Validate property 2 (modes are the same) - 𝐗 ×𝑛 𝐀 ×𝑛 𝐁 = 𝐗 ×𝑛 (𝐁𝐀)\n",
    "# Considering LHS \n",
    "LHS = X.mode_n_product(A, mode=1, inplace=False).mode_n_product(B, mode=1, inplace=False)\n",
    "# Considering RHS \n",
    "RHS = X.mode_n_product(np.matmul(B, A), mode=1, inplace=False)\n",
    "\n",
    "# Check if LHS=RHS - i.e. check if the two arrays are equal\n",
    "check = np.array_equal(LHS,RHS)\n",
    "print(check)"
   ]
  },
  {
   "cell_type": "markdown",
   "metadata": {
    "toc-hr-collapsed": true
   },
   "source": [
    "### Solution: Part 2\n",
    "\n",
    "Use [LaTeX syntax](https://stackoverflow.com/questions/13208286/how-to-write-latex-in-ipython-notebook) for analytical deriviations for the second property below.\n"
   ]
  },
  {
   "cell_type": "code",
   "execution_count": 28,
   "metadata": {},
   "outputs": [
    {
     "data": {
      "text/latex": [
       "We can denote an $N^{th}$ order tensor $\\mathbf{X}$ as $\\mathbf{X} \\in \\mathbb{R}^{I_{1}\\times I_{2}\\times \\dots \\times I_{N} }$ where \n",
       "tensor $\\mathbf{X}$ has $N$ indices denoted by $\\{i_{1}, i_{2}, \\dots , i_{N} \\}$. Therefore using this notation we can denote each \n",
       "element of tensor  $\\mathbf{X}$ as $\\mathbf{X}(i_{1}, i_{2}, \\dots , i_{N})$. When considering a mode-n product between tensor $\\mathbf{X}$\n",
       "and a matrix  $\\mathbf{A} \\in \\mathbb{R}^{J_{n}\\times I_{n}}$, then we know that the output tensor \n",
       "$\\mathbf{\\hat{X}} = \\mathbf{X} \\times_{n}  \\mathbf{A} \\in \\mathbb{R}^{I_{1}\\times \\dots \\times I_{n-1} \\times J_{n}  \\times I_{n+1} \\times \\dots \\times I_{N}}$.\n",
       "This effectively means that the each element of $\\mathbf{\\hat{X}}$ is equal to the sum of products of the corresponding elements of $\\mathbf{X}$\n",
       "and $\\mathbf{A}$\n",
       "\\begin{equation}\n",
       "    \\mathbf{\\hat{X}}(i_{1}, \\dots , i_{n-1} , j_{n}  , i_{n+1} , \\dots , i_{N}) = \\sum_{i_{n}=1}^{I_{n}} \\mathbf{X}(i_{1}, i_{2}, \\dots, i_{n}, \\dots , i_{N}) \n",
       "    \\cdot \\mathbf{A}(j_{n},i_{n}) \\ \\ \\ \\ \\ \\ \\ \\ \\ (1)\n",
       "\\end{equation}\n",
       "We can utilise this notation to prove analytically the second property of multiple mode-n products, where the modes are the same. Starting with the left-hand side (LHS) of second property and considering \n",
       "the operations in an element-wise manner as in Equation (1):\n",
       "\\begin{align}\n",
       "    \\text{LHS}_{element-wise} &= \\sum_{\\hat{i}_{n}=1}^{\\hat{I}_{n}} \\left( \\sum_{i_{n}=1}^{I_{n}} \\mathbf{X}(i_{1}, \\dots, i_{n}, \\dots , i_{N}) \\mathbf{A}(\\hat{i}_{n}, i_{n}) \\right) \\mathbf{B}(k_{n},\\hat{i}_{n})\n",
       "    \\ \\ \\ \\ \\ \\ \\ \\ \\ (2)\n",
       "\\end{align}\n",
       "By changing the order of summations we can further obtain:\n",
       "\\begin{align}\n",
       "    \\text{LHS}_{element-wise} &= \\sum_{i_{n}=1}^{I_{n}} \\mathbf{X}(i_{1}, \\dots, i_{n}, \\dots , i_{N}) \\sum_{\\hat{i}_{n}=1}^{\\hat{I}_{n}} \\mathbf{A}(\\hat{i}_{n}, i_{n}) \\mathbf{B}(k_{n},\\hat{i}_{n}) =\n",
       "    \\sum_{i_{n}=1}^{I_{n}} \\mathbf{X}(i_{1}, \\dots, i_{n}, \\dots , i_{N}) \\sum_{\\hat{i}_{n}=1}^{\\hat{I}_{n}} \\mathbf{B}(k_{n},\\hat{i}_{n}) \\mathbf{A}(\\hat{i}_{n}, i_{n})  \\ \\ \\ \\ \\ \\ \\ \\ \\ (3)\n",
       "\\end{align}\n",
       "We can identify that the last summation of Equation (3) is equal to the matrix product between matrices $\\mathbf{B}$ and $\\mathbf{A}$,i.e. $\\mathbf{C} = \\mathbf{B} \\mathbf{A}$, given by:\n",
       "\\begin{equation}\n",
       "    \\mathbf{C}(k_{n},i_{n}) = \\sum_{\\hat{i}_{n}=1}^{\\hat{I}_{n}} \\mathbf{B}(k_{n},\\hat{i}_{n}) \\mathbf{A}(\\hat{i}_{n}, i_{n}) \\ \\ \\ \\ \\ \\ \\ \\ \\ (4)\n",
       "\\end{equation}\n",
       "Using this property, we can further reduce Equation (3) as:\n",
       "\\begin{align}\n",
       "    \\text{LHS}_{element-wise} &= \\sum_{i_{n}=1}^{I_{n}} \\mathbf{X}(i_{1}, \\dots, i_{n}, \\dots , i_{N}) \\mathbf{C}({k}_{n}, i_{n}) =\n",
       "    \\mathbf{\\tilde{X}}(i_{1}, \\dots , i_{n-1} , k_{n}  , i_{n+1} , \\dots , i_{N})\\ \\ \\ \\ \\ \\ \\ \\ \\ (5)\n",
       "\\end{align}\n",
       "Using the definition of mode-n product from Equation (1), we can write Equation (5) in tensor notation as:\n",
       "\\begin{align}\n",
       "    \\text{LHS} &= \\mathbf{X} \\times_{n}  \\mathbf{A} \\times_{n}  \\mathbf{B} = \\mathbf{tilde{X}} = \\mathbf{X} \\times_{n}  (\\mathbf{C})  = \\mathbf{X} \\times_{n}  (\\mathbf{A} \\mathbf{B}) = \\text{RHS} \\ \\ \\ \\ \\ \\ \\ \\ \\ (6)\n",
       "\\end{align}\n",
       "Since the right-hand side (RHS) and LHS of second property are equal, then the property is verified.\n",
       "\n",
       "\n",
       "\n"
      ],
      "text/plain": [
       "<IPython.core.display.Latex object>"
      ]
     },
     "metadata": {},
     "output_type": "display_data"
    }
   ],
   "source": [
    "%%latex\n",
    "We can denote an $N^{th}$ order tensor $\\mathbf{X}$ as $\\mathbf{X} \\in \\mathbb{R}^{I_{1}\\times I_{2}\\times \\dots \\times I_{N} }$ where \n",
    "tensor $\\mathbf{X}$ has $N$ indices denoted by $\\{i_{1}, i_{2}, \\dots , i_{N} \\}$. Therefore using this notation we can denote each \n",
    "element of tensor  $\\mathbf{X}$ as $\\mathbf{X}(i_{1}, i_{2}, \\dots , i_{N})$. When considering a mode-n product between tensor $\\mathbf{X}$\n",
    "and a matrix  $\\mathbf{A} \\in \\mathbb{R}^{J_{n}\\times I_{n}}$, then we know that the output tensor \n",
    "$\\mathbf{\\hat{X}} = \\mathbf{X} \\times_{n}  \\mathbf{A} \\in \\mathbb{R}^{I_{1}\\times \\dots \\times I_{n-1} \\times J_{n}  \\times I_{n+1} \\times \\dots \\times I_{N}}$.\n",
    "This effectively means that the each element of $\\mathbf{\\hat{X}}$ is equal to the sum of products of the corresponding elements of $\\mathbf{X}$\n",
    "and $\\mathbf{A}$\n",
    "\\begin{equation}\n",
    "    \\mathbf{\\hat{X}}(i_{1}, \\dots , i_{n-1} , j_{n}  , i_{n+1} , \\dots , i_{N}) = \\sum_{i_{n}=1}^{I_{n}} \\mathbf{X}(i_{1}, i_{2}, \\dots, i_{n}, \\dots , i_{N}) \n",
    "    \\cdot \\mathbf{A}(j_{n},i_{n}) \\ \\ \\ \\ \\ \\ \\ \\ \\ (1)\n",
    "\\end{equation}\n",
    "We can utilise this notation to prove analytically the second property of multiple mode-n products, where the modes are the same. Starting with the left-hand side (LHS) of second property and considering \n",
    "the operations in an element-wise manner as in Equation (1):\n",
    "\\begin{align}\n",
    "    \\text{LHS}_{element-wise} &= \\sum_{\\hat{i}_{n}=1}^{\\hat{I}_{n}} \\left( \\sum_{i_{n}=1}^{I_{n}} \\mathbf{X}(i_{1}, \\dots, i_{n}, \\dots , i_{N}) \\mathbf{A}(\\hat{i}_{n}, i_{n}) \\right) \\mathbf{B}(k_{n},\\hat{i}_{n})\n",
    "    \\ \\ \\ \\ \\ \\ \\ \\ \\ (2)\n",
    "\\end{align}\n",
    "By changing the order of summations we can further obtain:\n",
    "\\begin{align}\n",
    "    \\text{LHS}_{element-wise} &= \\sum_{i_{n}=1}^{I_{n}} \\mathbf{X}(i_{1}, \\dots, i_{n}, \\dots , i_{N}) \\sum_{\\hat{i}_{n}=1}^{\\hat{I}_{n}} \\mathbf{A}(\\hat{i}_{n}, i_{n}) \\mathbf{B}(k_{n},\\hat{i}_{n}) =\n",
    "    \\sum_{i_{n}=1}^{I_{n}} \\mathbf{X}(i_{1}, \\dots, i_{n}, \\dots , i_{N}) \\sum_{\\hat{i}_{n}=1}^{\\hat{I}_{n}} \\mathbf{B}(k_{n},\\hat{i}_{n}) \\mathbf{A}(\\hat{i}_{n}, i_{n})  \\ \\ \\ \\ \\ \\ \\ \\ \\ (3)\n",
    "\\end{align}\n",
    "We can identify that the last summation of Equation (3) is equal to the matrix product between matrices $\\mathbf{B}$ and $\\mathbf{A}$,i.e. $\\mathbf{C} = \\mathbf{B} \\mathbf{A}$, given by:\n",
    "\\begin{equation}\n",
    "    \\mathbf{C}(k_{n},i_{n}) = \\sum_{\\hat{i}_{n}=1}^{\\hat{I}_{n}} \\mathbf{B}(k_{n},\\hat{i}_{n}) \\mathbf{A}(\\hat{i}_{n}, i_{n}) \\ \\ \\ \\ \\ \\ \\ \\ \\ (4)\n",
    "\\end{equation}\n",
    "Using this property, we can further reduce Equation (3) as:\n",
    "\\begin{align}\n",
    "    \\text{LHS}_{element-wise} &= \\sum_{i_{n}=1}^{I_{n}} \\mathbf{X}(i_{1}, \\dots, i_{n}, \\dots , i_{N}) \\mathbf{C}({k}_{n}, i_{n}) =\n",
    "    \\mathbf{\\tilde{X}}(i_{1}, \\dots , i_{n-1} , k_{n}  , i_{n+1} , \\dots , i_{N})\\ \\ \\ \\ \\ \\ \\ \\ \\ (5)\n",
    "\\end{align}\n",
    "Using the definition of mode-n product from Equation (1), we can write Equation (5) in tensor notation as:\n",
    "\\begin{align}\n",
    "    \\text{LHS} &= \\mathbf{X} \\times_{n}  \\mathbf{A} \\times_{n}  \\mathbf{B} = \\mathbf{tilde{X}} = \\mathbf{X} \\times_{n}  (\\mathbf{C})  = \\mathbf{X} \\times_{n}  (\\mathbf{A} \\mathbf{B}) = \\text{RHS} \\ \\ \\ \\ \\ \\ \\ \\ \\ (6)\n",
    "\\end{align}\n",
    "Since the right-hand side (RHS) and LHS of second property are equal, then the property is verified.\n",
    "\n",
    "\n",
    "\n"
   ]
  },
  {
   "cell_type": "code",
   "execution_count": null,
   "metadata": {},
   "outputs": [],
   "source": []
  }
 ],
 "metadata": {
  "kernelspec": {
   "display_name": "dpm-coursework",
   "language": "python",
   "name": "dpm-coursework"
  },
  "language_info": {
   "codemirror_mode": {
    "name": "ipython",
    "version": 3
   },
   "file_extension": ".py",
   "mimetype": "text/x-python",
   "name": "python",
   "nbconvert_exporter": "python",
   "pygments_lexer": "ipython3",
   "version": "3.7.3"
  },
  "toc-autonumbering": false,
  "toc-showcode": false,
  "toc-showmarkdowntxt": false
 },
 "nbformat": 4,
 "nbformat_minor": 2
}
